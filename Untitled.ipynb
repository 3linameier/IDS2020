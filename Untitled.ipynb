{
 "cells": [
  {
   "cell_type": "code",
   "execution_count": 1,
   "metadata": {},
   "outputs": [],
   "source": [
    "import matplotlib.pyplot as plt \n",
    "import numpy as np\n",
    "import pandas as pd"
   ]
  },
  {
   "cell_type": "code",
   "execution_count": 7,
   "metadata": {},
   "outputs": [],
   "source": [
    "data = pd.read_csv(\"testike3.csv\")"
   ]
  },
  {
   "cell_type": "code",
   "execution_count": 8,
   "metadata": {},
   "outputs": [
    {
     "data": {
      "text/html": [
       "<div>\n",
       "<style scoped>\n",
       "    .dataframe tbody tr th:only-of-type {\n",
       "        vertical-align: middle;\n",
       "    }\n",
       "\n",
       "    .dataframe tbody tr th {\n",
       "        vertical-align: top;\n",
       "    }\n",
       "\n",
       "    .dataframe thead th {\n",
       "        text-align: right;\n",
       "    }\n",
       "</style>\n",
       "<table border=\"1\" class=\"dataframe\">\n",
       "  <thead>\n",
       "    <tr style=\"text-align: right;\">\n",
       "      <th></th>\n",
       "      <th>unlockedat</th>\n",
       "      <th>unlockedattime</th>\n",
       "      <th>lockedat</th>\n",
       "      <th>lockedattime</th>\n",
       "      <th>length</th>\n",
       "      <th>startstationname</th>\n",
       "      <th>endstationname</th>\n",
       "    </tr>\n",
       "  </thead>\n",
       "  <tbody>\n",
       "    <tr>\n",
       "      <th>0</th>\n",
       "      <td>01/06/2019</td>\n",
       "      <td>09:37:57</td>\n",
       "      <td>01/06/2019</td>\n",
       "      <td>10:18:07</td>\n",
       "      <td>0.04</td>\n",
       "      <td>Warehouse</td>\n",
       "      <td>Warehouse</td>\n",
       "    </tr>\n",
       "    <tr>\n",
       "      <th>1</th>\n",
       "      <td>01/06/2019</td>\n",
       "      <td>09:39:42</td>\n",
       "      <td>01/06/2019</td>\n",
       "      <td>10:13:56</td>\n",
       "      <td>0.07</td>\n",
       "      <td>Undetermined</td>\n",
       "      <td>Warehouse</td>\n",
       "    </tr>\n",
       "    <tr>\n",
       "      <th>2</th>\n",
       "      <td>01/06/2019</td>\n",
       "      <td>09:41:28</td>\n",
       "      <td>01/06/2019</td>\n",
       "      <td>10:19:49</td>\n",
       "      <td>0.03</td>\n",
       "      <td>Undetermined</td>\n",
       "      <td>Warehouse</td>\n",
       "    </tr>\n",
       "    <tr>\n",
       "      <th>3</th>\n",
       "      <td>01/06/2019</td>\n",
       "      <td>09:48:09</td>\n",
       "      <td>01/06/2019</td>\n",
       "      <td>10:22:08</td>\n",
       "      <td>0.03</td>\n",
       "      <td>Warehouse</td>\n",
       "      <td>Warehouse</td>\n",
       "    </tr>\n",
       "    <tr>\n",
       "      <th>4</th>\n",
       "      <td>01/06/2019</td>\n",
       "      <td>10:02:54</td>\n",
       "      <td>01/06/2019</td>\n",
       "      <td>10:05:17</td>\n",
       "      <td>0.02</td>\n",
       "      <td>Warehouse</td>\n",
       "      <td>Warehouse</td>\n",
       "    </tr>\n",
       "  </tbody>\n",
       "</table>\n",
       "</div>"
      ],
      "text/plain": [
       "   unlockedat unlockedattime    lockedat lockedattime  length  \\\n",
       "0  01/06/2019       09:37:57  01/06/2019     10:18:07    0.04   \n",
       "1  01/06/2019       09:39:42  01/06/2019     10:13:56    0.07   \n",
       "2  01/06/2019       09:41:28  01/06/2019     10:19:49    0.03   \n",
       "3  01/06/2019       09:48:09  01/06/2019     10:22:08    0.03   \n",
       "4  01/06/2019       10:02:54  01/06/2019     10:05:17    0.02   \n",
       "\n",
       "  startstationname endstationname  \n",
       "0        Warehouse      Warehouse  \n",
       "1     Undetermined      Warehouse  \n",
       "2     Undetermined      Warehouse  \n",
       "3        Warehouse      Warehouse  \n",
       "4        Warehouse      Warehouse  "
      ]
     },
     "execution_count": 8,
     "metadata": {},
     "output_type": "execute_result"
    }
   ],
   "source": [
    "data.head()"
   ]
  }
 ],
 "metadata": {
  "kernelspec": {
   "display_name": "Python 3",
   "language": "python",
   "name": "python3"
  },
  "language_info": {
   "codemirror_mode": {
    "name": "ipython",
    "version": 3
   },
   "file_extension": ".py",
   "mimetype": "text/x-python",
   "name": "python",
   "nbconvert_exporter": "python",
   "pygments_lexer": "ipython3",
   "version": "3.8.6"
  }
 },
 "nbformat": 4,
 "nbformat_minor": 4
}
