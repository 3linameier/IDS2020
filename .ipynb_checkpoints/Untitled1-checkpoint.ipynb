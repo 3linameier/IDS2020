{
 "cells": [
  {
   "cell_type": "code",
   "execution_count": 184,
   "metadata": {},
   "outputs": [],
   "source": [
    "import matplotlib.pyplot as plt \n",
    "import numpy as np\n",
    "import pandas as pd"
   ]
  },
  {
   "cell_type": "code",
   "execution_count": 185,
   "metadata": {},
   "outputs": [],
   "source": [
    "data1 = pd.read_csv(\"Rattaringlus2019.06--2019.12.csv\")\n",
    "data2 = pd.read_csv(\"Rattaringlus2019.12--2020.07.csv\")\n",
    "data = pd.concat([data1, data2])\n",
    "data = data.reset_index(drop=True)"
   ]
  },
  {
   "cell_type": "code",
   "execution_count": 187,
   "metadata": {},
   "outputs": [],
   "source": [
    "data['lockedattime'] = data['lockedattime'].astype(str).str[:8]                        \n",
    "data['unlockedattime'] = data['unlockedattime'].astype(str).str[:8]\n",
    "data['unlocked'] = pd.to_datetime(data['unlockedattime'] + ' ' + data['unlockedat'], format='%H:%M:%S %Y-%m-%d')\n",
    "data['locked'] = pd.to_datetime(data['lockedattime'] + ' ' + data['lockedat'], format='%H:%M:%S %Y-%m-%d')\n",
    "puhas = data.drop(columns=['unlockedat', 'unlockedattime', 'lockedat', 'lockedattime'])"
   ]
  },
  {
   "cell_type": "code",
   "execution_count": 188,
   "metadata": {},
   "outputs": [],
   "source": [
    "for i, startstationname in enumerate(puhas.startstationname):\n",
    "    x = puhas['startstationname'][i]\n",
    "    y = puhas['endstationname'][i]\n",
    "    z = puhas['length'][i]\n",
    "    \n",
    "    if x == '-- Määramata --':\n",
    "        puhas.at[i, 'startstationname'] = 'Undetermined'\n",
    "        x = puhas['startstationname'][i]\n",
    "    if y == '-- Määramata --':\n",
    "        puhas.at[i, 'endstationname'] = 'Undetermined'\n",
    "        y = puhas['endstationname'][i]\n",
    "    if x == 'Undetermined':\n",
    "        if y != 'Undetermined':\n",
    "            if z < 0.1:\n",
    "                puhas.at[i, 'startstationname'] = y\n",
    "    if y == 'Undetermined':\n",
    "        if x != 'Undetermined':\n",
    "            if z < 0.1:\n",
    "                puhas.at[i, 'endstationname'] = x                        #6min, vb vähem- ei pannud tähele kui lõpetas"
   ]
  },
  {
   "cell_type": "code",
   "execution_count": 247,
   "metadata": {
    "scrolled": true
   },
   "outputs": [
    {
     "name": "stderr",
     "output_type": "stream",
     "text": [
      "<ipython-input-247-334b4607b73e>:2: SettingWithCopyWarning: \n",
      "A value is trying to be set on a copy of a slice from a DataFrame.\n",
      "Try using .loc[row_indexer,col_indexer] = value instead\n",
      "\n",
      "See the caveats in the documentation: https://pandas.pydata.org/pandas-docs/stable/user_guide/indexing.html#returning-a-view-versus-a-copy\n",
      "  vol1['minek'] = 1 #kui 1 siis unlocked\n",
      "<ipython-input-247-334b4607b73e>:4: SettingWithCopyWarning: \n",
      "A value is trying to be set on a copy of a slice from a DataFrame.\n",
      "Try using .loc[row_indexer,col_indexer] = value instead\n",
      "\n",
      "See the caveats in the documentation: https://pandas.pydata.org/pandas-docs/stable/user_guide/indexing.html#returning-a-view-versus-a-copy\n",
      "  vol2['minek'] = 0\n",
      "C:\\ProgramData\\Anaconda3\\lib\\site-packages\\pandas\\core\\frame.py:4125: SettingWithCopyWarning: \n",
      "A value is trying to be set on a copy of a slice from a DataFrame\n",
      "\n",
      "See the caveats in the documentation: https://pandas.pydata.org/pandas-docs/stable/user_guide/indexing.html#returning-a-view-versus-a-copy\n",
      "  return super().rename(\n"
     ]
    },
    {
     "data": {
      "text/html": [
       "<div>\n",
       "<style scoped>\n",
       "    .dataframe tbody tr th:only-of-type {\n",
       "        vertical-align: middle;\n",
       "    }\n",
       "\n",
       "    .dataframe tbody tr th {\n",
       "        vertical-align: top;\n",
       "    }\n",
       "\n",
       "    .dataframe thead th {\n",
       "        text-align: right;\n",
       "    }\n",
       "</style>\n",
       "<table border=\"1\" class=\"dataframe\">\n",
       "  <thead>\n",
       "    <tr style=\"text-align: right;\">\n",
       "      <th></th>\n",
       "      <th>station</th>\n",
       "      <th>time</th>\n",
       "      <th>minek</th>\n",
       "    </tr>\n",
       "  </thead>\n",
       "  <tbody>\n",
       "    <tr>\n",
       "      <th>0</th>\n",
       "      <td>Warehouse</td>\n",
       "      <td>2019-06-01 09:37:57</td>\n",
       "      <td>1</td>\n",
       "    </tr>\n",
       "    <tr>\n",
       "      <th>1</th>\n",
       "      <td>Warehouse</td>\n",
       "      <td>2019-06-01 09:39:42</td>\n",
       "      <td>1</td>\n",
       "    </tr>\n",
       "    <tr>\n",
       "      <th>2</th>\n",
       "      <td>Warehouse</td>\n",
       "      <td>2019-06-01 09:41:28</td>\n",
       "      <td>1</td>\n",
       "    </tr>\n",
       "    <tr>\n",
       "      <th>3</th>\n",
       "      <td>Warehouse</td>\n",
       "      <td>2019-06-01 09:48:09</td>\n",
       "      <td>1</td>\n",
       "    </tr>\n",
       "    <tr>\n",
       "      <th>4</th>\n",
       "      <td>Warehouse</td>\n",
       "      <td>2019-06-01 10:02:54</td>\n",
       "      <td>1</td>\n",
       "    </tr>\n",
       "    <tr>\n",
       "      <th>...</th>\n",
       "      <td>...</td>\n",
       "      <td>...</td>\n",
       "      <td>...</td>\n",
       "    </tr>\n",
       "    <tr>\n",
       "      <th>1424488</th>\n",
       "      <td>Tamme gümnaasium</td>\n",
       "      <td>2020-07-31 01:30:43</td>\n",
       "      <td>0</td>\n",
       "    </tr>\n",
       "    <tr>\n",
       "      <th>1424470</th>\n",
       "      <td>Põhja puiestee</td>\n",
       "      <td>2020-07-31 01:37:38</td>\n",
       "      <td>0</td>\n",
       "    </tr>\n",
       "    <tr>\n",
       "      <th>1424478</th>\n",
       "      <td>Vahi</td>\n",
       "      <td>2020-07-31 01:41:38</td>\n",
       "      <td>0</td>\n",
       "    </tr>\n",
       "    <tr>\n",
       "      <th>1424473</th>\n",
       "      <td>Torni</td>\n",
       "      <td>2020-07-31 02:46:35</td>\n",
       "      <td>0</td>\n",
       "    </tr>\n",
       "    <tr>\n",
       "      <th>1424482</th>\n",
       "      <td>Annelinn</td>\n",
       "      <td>2020-07-31 04:34:57</td>\n",
       "      <td>0</td>\n",
       "    </tr>\n",
       "  </tbody>\n",
       "</table>\n",
       "<p>2848996 rows × 3 columns</p>\n",
       "</div>"
      ],
      "text/plain": [
       "                  station                time  minek\n",
       "0               Warehouse 2019-06-01 09:37:57      1\n",
       "1               Warehouse 2019-06-01 09:39:42      1\n",
       "2               Warehouse 2019-06-01 09:41:28      1\n",
       "3               Warehouse 2019-06-01 09:48:09      1\n",
       "4               Warehouse 2019-06-01 10:02:54      1\n",
       "...                   ...                 ...    ...\n",
       "1424488  Tamme gümnaasium 2020-07-31 01:30:43      0\n",
       "1424470    Põhja puiestee 2020-07-31 01:37:38      0\n",
       "1424478              Vahi 2020-07-31 01:41:38      0\n",
       "1424473             Torni 2020-07-31 02:46:35      0\n",
       "1424482          Annelinn 2020-07-31 04:34:57      0\n",
       "\n",
       "[2848996 rows x 3 columns]"
      ]
     },
     "execution_count": 247,
     "metadata": {},
     "output_type": "execute_result"
    }
   ],
   "source": [
    "vol1 = puhas[['startstationname', 'unlocked']]\n",
    "vol1['minek'] = 1 #kui 1 siis unlocked\n",
    "vol2 = puhas[['endstationname', 'locked']]\n",
    "vol2['minek'] = 0 \n",
    "vol1.rename(columns={'startstationname':'station', 'unlocked':'time'}, inplace=True)\n",
    "vol2.rename(columns={'endstationname':'station', 'locked':'time'}, inplace=True)\n",
    "result = pd.concat([vol1, vol2])\n",
    "sorteeritud = result.sort_values('time')\n",
    "sorteeritud.reset_index(drop=True)\n",
    "sorteeritud"
   ]
  },
  {
   "cell_type": "code",
   "execution_count": 293,
   "metadata": {},
   "outputs": [],
   "source": [
    "periood = sorteeritud.loc[(sorteeritud['time'] >= '2019 09 01') & (sorteeritud['time'] <= '2019 10 01')]\n",
    "periood = periood.reset_index()"
   ]
  },
  {
   "cell_type": "code",
   "execution_count": 283,
   "metadata": {},
   "outputs": [],
   "source": [
    "dokid = np.unique(periood[['station']].values)"
   ]
  },
  {
   "cell_type": "code",
   "execution_count": 284,
   "metadata": {},
   "outputs": [],
   "source": [
    "tim = pd.Timestamp('2019-09-01') #perioodi alguskuupäev sisse\n",
    "vahemik = pd.to_timedelta(\"00:20:00\")                                      #5min, vb vähem- ei pannud tähele kui lõpetas\n",
    "uus = pd.DataFrame({'start':0} ,index = dokid)\n",
    "col = pd.DataFrame({tim:0} ,index = dokid)\n",
    "\n",
    "for i, station in enumerate(periood.station):\n",
    "    station = periood['station'][i]\n",
    "    time = periood['time'][i]\n",
    "    minek = periood['minek'][i]\n",
    "    while (abs(tim - time) > vahemik):\n",
    "        uus[tim] = col\n",
    "        tim += vahemik\n",
    "        col = pd.DataFrame({tim:0} ,index = dokid)\n",
    "    else:\n",
    "        if minek == 0:\n",
    "            col[tim][station] -= 1\n",
    "        else:\n",
    "            col[tim][station] += 1"
   ]
  },
  {
   "cell_type": "code",
   "execution_count": 285,
   "metadata": {},
   "outputs": [],
   "source": [
    "p = uus.drop(columns=['start'])"
   ]
  },
  {
   "cell_type": "code",
   "execution_count": 305,
   "metadata": {},
   "outputs": [
    {
     "data": {
      "text/html": [
       "<div>\n",
       "<style scoped>\n",
       "    .dataframe tbody tr th:only-of-type {\n",
       "        vertical-align: middle;\n",
       "    }\n",
       "\n",
       "    .dataframe tbody tr th {\n",
       "        vertical-align: top;\n",
       "    }\n",
       "\n",
       "    .dataframe thead th {\n",
       "        text-align: right;\n",
       "    }\n",
       "</style>\n",
       "<table border=\"1\" class=\"dataframe\">\n",
       "  <thead>\n",
       "    <tr style=\"text-align: right;\">\n",
       "      <th></th>\n",
       "      <th>Uueturu</th>\n",
       "      <th>time</th>\n",
       "      <th>weekday</th>\n",
       "    </tr>\n",
       "  </thead>\n",
       "  <tbody>\n",
       "    <tr>\n",
       "      <th>2019-09-01 00:00:00</th>\n",
       "      <td>0</td>\n",
       "      <td>2019-09-01 00:00:00</td>\n",
       "      <td>6</td>\n",
       "    </tr>\n",
       "    <tr>\n",
       "      <th>2019-09-01 00:20:00</th>\n",
       "      <td>2</td>\n",
       "      <td>2019-09-01 00:20:00</td>\n",
       "      <td>6</td>\n",
       "    </tr>\n",
       "    <tr>\n",
       "      <th>2019-09-01 00:40:00</th>\n",
       "      <td>-1</td>\n",
       "      <td>2019-09-01 00:40:00</td>\n",
       "      <td>6</td>\n",
       "    </tr>\n",
       "    <tr>\n",
       "      <th>2019-09-01 01:00:00</th>\n",
       "      <td>-2</td>\n",
       "      <td>2019-09-01 01:00:00</td>\n",
       "      <td>6</td>\n",
       "    </tr>\n",
       "    <tr>\n",
       "      <th>2019-09-01 01:20:00</th>\n",
       "      <td>-1</td>\n",
       "      <td>2019-09-01 01:20:00</td>\n",
       "      <td>6</td>\n",
       "    </tr>\n",
       "    <tr>\n",
       "      <th>...</th>\n",
       "      <td>...</td>\n",
       "      <td>...</td>\n",
       "      <td>...</td>\n",
       "    </tr>\n",
       "    <tr>\n",
       "      <th>2019-09-30 22:00:00</th>\n",
       "      <td>1</td>\n",
       "      <td>2019-09-30 22:00:00</td>\n",
       "      <td>0</td>\n",
       "    </tr>\n",
       "    <tr>\n",
       "      <th>2019-09-30 22:20:00</th>\n",
       "      <td>0</td>\n",
       "      <td>2019-09-30 22:20:00</td>\n",
       "      <td>0</td>\n",
       "    </tr>\n",
       "    <tr>\n",
       "      <th>2019-09-30 22:40:00</th>\n",
       "      <td>0</td>\n",
       "      <td>2019-09-30 22:40:00</td>\n",
       "      <td>0</td>\n",
       "    </tr>\n",
       "    <tr>\n",
       "      <th>2019-09-30 23:00:00</th>\n",
       "      <td>0</td>\n",
       "      <td>2019-09-30 23:00:00</td>\n",
       "      <td>0</td>\n",
       "    </tr>\n",
       "    <tr>\n",
       "      <th>2019-09-30 23:20:00</th>\n",
       "      <td>-1</td>\n",
       "      <td>2019-09-30 23:20:00</td>\n",
       "      <td>0</td>\n",
       "    </tr>\n",
       "  </tbody>\n",
       "</table>\n",
       "<p>2159 rows × 3 columns</p>\n",
       "</div>"
      ],
      "text/plain": [
       "                     Uueturu                time  weekday\n",
       "2019-09-01 00:00:00        0 2019-09-01 00:00:00        6\n",
       "2019-09-01 00:20:00        2 2019-09-01 00:20:00        6\n",
       "2019-09-01 00:40:00       -1 2019-09-01 00:40:00        6\n",
       "2019-09-01 01:00:00       -2 2019-09-01 01:00:00        6\n",
       "2019-09-01 01:20:00       -1 2019-09-01 01:20:00        6\n",
       "...                      ...                 ...      ...\n",
       "2019-09-30 22:00:00        1 2019-09-30 22:00:00        0\n",
       "2019-09-30 22:20:00        0 2019-09-30 22:20:00        0\n",
       "2019-09-30 22:40:00        0 2019-09-30 22:40:00        0\n",
       "2019-09-30 23:00:00        0 2019-09-30 23:00:00        0\n",
       "2019-09-30 23:20:00       -1 2019-09-30 23:20:00        0\n",
       "\n",
       "[2159 rows x 3 columns]"
      ]
     },
     "execution_count": 305,
     "metadata": {},
     "output_type": "execute_result"
    }
   ],
   "source": [
    "row = p.iloc[66] #valid huvipakkuva stationi indeksi\n",
    "rr = pd.DataFrame(row)\n",
    "rr['time'] = rr.index\n",
    "rr['weekday'] = rr['time'].dt.dayofweek\n",
    "rr"
   ]
  },
  {
   "cell_type": "code",
   "execution_count": 306,
   "metadata": {},
   "outputs": [],
   "source": [
    "dti = pd.date_range(\"05:00\", \"23:40\", freq=\"20min\").time\n",
    "w = [0, 1, 2, 3, 4, 5, 6]\n",
    "graf = pd.DataFrame({'start':0} ,index = w)\n",
    "for i in range(57):\n",
    "    c = dti[i]\n",
    "    b = rr.at_time(c)\n",
    "    d = b.groupby(['weekday']).mean()\n",
    "    graf[c] = d"
   ]
  },
  {
   "cell_type": "code",
   "execution_count": 370,
   "metadata": {
    "scrolled": true
   },
   "outputs": [
    {
     "data": {
      "text/plain": [
       "<matplotlib.axes._subplots.AxesSubplot at 0x267044689d0>"
      ]
     },
     "execution_count": 370,
     "metadata": {},
     "output_type": "execute_result"
    },
    {
     "data": {
      "image/png": "[encoded data removed]",
      "text/plain": [
       "<Figure size 432x288 with 1 Axes>"
      ]
     },
     "metadata": {
      "needs_background": "light"
     },
     "output_type": "display_data"
    }
   ],
   "source": [
    "graf.mean().plot()  #sept kõikide päevade põhjal"
   ]
  },
  {
   "cell_type": "code",
   "execution_count": 383,
   "metadata": {
    "scrolled": true
   },
   "outputs": [
    {
     "data": {
      "text/plain": [
       "start              0\n",
       "05:00:00           0\n",
       "05:20:00           0\n",
       "05:40:00        -0.5\n",
       "06:00:00           0\n",
       "06:20:00       -0.25\n",
       "06:40:00        0.25\n",
       "07:00:00       -1.25\n",
       "07:20:00       -0.25\n",
       "07:40:00       -2.25\n",
       "08:00:00       -4.75\n",
       "08:20:00       -2.25\n",
       "08:40:00        -3.5\n",
       "09:00:00       -2.75\n",
       "09:20:00       -1.75\n",
       "09:40:00       -0.75\n",
       "10:00:00         1.5\n",
       "10:20:00        0.75\n",
       "10:40:00         2.5\n",
       "11:00:00       -0.75\n",
       "11:20:00       -0.25\n",
       "11:40:00       -2.25\n",
       "12:00:00         2.5\n",
       "12:20:00        -0.5\n",
       "12:40:00        1.25\n",
       "13:00:00        -0.5\n",
       "13:20:00       -0.25\n",
       "13:40:00          -1\n",
       "14:00:00        0.75\n",
       "14:20:00         1.5\n",
       "14:40:00        0.75\n",
       "15:00:00        -0.5\n",
       "15:20:00           6\n",
       "15:40:00         1.5\n",
       "16:00:00           4\n",
       "16:20:00           3\n",
       "16:40:00         2.5\n",
       "17:00:00        2.75\n",
       "17:20:00        -1.5\n",
       "17:40:00         1.5\n",
       "18:00:00       -0.75\n",
       "18:20:00        -0.5\n",
       "18:40:00        0.25\n",
       "19:00:00        -0.5\n",
       "19:20:00        0.25\n",
       "19:40:00           1\n",
       "20:00:00       -0.25\n",
       "20:20:00       -0.25\n",
       "20:40:00           1\n",
       "21:00:00          -1\n",
       "21:20:00           0\n",
       "21:40:00        0.25\n",
       "22:00:00        0.75\n",
       "22:20:00           0\n",
       "22:40:00       -0.25\n",
       "23:00:00           1\n",
       "23:20:00       -0.25\n",
       "23:40:00        1.25\n",
       "new_index    tuesday\n",
       "Name: 1, dtype: object"
      ]
     },
     "execution_count": 383,
     "metadata": {},
     "output_type": "execute_result"
    }
   ],
   "source": [
    "graf.iloc[1].plot()   #sept esmaspäevade põhjal"
   ]
  },
  {
   "cell_type": "code",
   "execution_count": null,
   "metadata": {},
   "outputs": [],
   "source": []
  },
  {
   "cell_type": "code",
   "execution_count": 327,
   "metadata": {},
   "outputs": [],
   "source": []
  },
  {
   "cell_type": "code",
   "execution_count": null,
   "metadata": {},
   "outputs": [],
   "source": []
  },
  {
   "cell_type": "code",
   "execution_count": null,
   "metadata": {},
   "outputs": [],
   "source": []
  },
  {
   "cell_type": "code",
   "execution_count": 443,
   "metadata": {},
   "outputs": [],
   "source": [
    "#TRAIN"
   ]
  },
  {
   "cell_type": "code",
   "execution_count": 496,
   "metadata": {},
   "outputs": [],
   "source": [
    "periood = sorteeritud.loc[(sorteeritud['time'] >= '2019 09 01') & (sorteeritud['time'] <= '2019 10 01')]\n",
    "periood = periood.reset_index()"
   ]
  },
  {
   "cell_type": "code",
   "execution_count": 497,
   "metadata": {},
   "outputs": [],
   "source": [
    "dokid = np.unique(periood[['station']].values)"
   ]
  },
  {
   "cell_type": "code",
   "execution_count": 498,
   "metadata": {},
   "outputs": [],
   "source": [
    "tim = pd.Timestamp('2019-09-01') #perioodi alguskuupäev sisse\n",
    "vahemik = pd.to_timedelta(\"00:20:00\")                                     \n",
    "uus = pd.DataFrame({'start':0} ,index = dokid)\n",
    "col = pd.DataFrame({tim:0} ,index = dokid)\n",
    "\n",
    "for i, station in enumerate(periood.station):\n",
    "    station = periood['station'][i]\n",
    "    time = periood['time'][i]\n",
    "    minek = periood['minek'][i]\n",
    "    while (abs(tim - time) > vahemik):\n",
    "        uus[tim] = col\n",
    "        tim += vahemik\n",
    "        col = pd.DataFrame({tim:0} ,index = dokid)\n",
    "    else:\n",
    "        if minek == 0:\n",
    "            col[tim][station] -= 1\n",
    "        else:\n",
    "            col[tim][station] += 1"
   ]
  },
  {
   "cell_type": "code",
   "execution_count": 499,
   "metadata": {},
   "outputs": [],
   "source": [
    "p = uus.drop(columns=['start'])"
   ]
  },
  {
   "cell_type": "code",
   "execution_count": 500,
   "metadata": {
    "scrolled": true
   },
   "outputs": [
    {
     "data": {
      "text/html": [
       "<div>\n",
       "<style scoped>\n",
       "    .dataframe tbody tr th:only-of-type {\n",
       "        vertical-align: middle;\n",
       "    }\n",
       "\n",
       "    .dataframe tbody tr th {\n",
       "        vertical-align: top;\n",
       "    }\n",
       "\n",
       "    .dataframe thead th {\n",
       "        text-align: right;\n",
       "    }\n",
       "</style>\n",
       "<table border=\"1\" class=\"dataframe\">\n",
       "  <thead>\n",
       "    <tr style=\"text-align: right;\">\n",
       "      <th></th>\n",
       "      <th>Vahi</th>\n",
       "      <th>time</th>\n",
       "      <th>weekday</th>\n",
       "    </tr>\n",
       "  </thead>\n",
       "  <tbody>\n",
       "    <tr>\n",
       "      <th>2019-09-01 00:00:00</th>\n",
       "      <td>-1</td>\n",
       "      <td>2019-09-01 00:00:00</td>\n",
       "      <td>6</td>\n",
       "    </tr>\n",
       "    <tr>\n",
       "      <th>2019-09-01 00:20:00</th>\n",
       "      <td>0</td>\n",
       "      <td>2019-09-01 00:20:00</td>\n",
       "      <td>6</td>\n",
       "    </tr>\n",
       "    <tr>\n",
       "      <th>2019-09-01 00:40:00</th>\n",
       "      <td>0</td>\n",
       "      <td>2019-09-01 00:40:00</td>\n",
       "      <td>6</td>\n",
       "    </tr>\n",
       "    <tr>\n",
       "      <th>2019-09-01 01:00:00</th>\n",
       "      <td>-1</td>\n",
       "      <td>2019-09-01 01:00:00</td>\n",
       "      <td>6</td>\n",
       "    </tr>\n",
       "    <tr>\n",
       "      <th>2019-09-01 01:20:00</th>\n",
       "      <td>0</td>\n",
       "      <td>2019-09-01 01:20:00</td>\n",
       "      <td>6</td>\n",
       "    </tr>\n",
       "    <tr>\n",
       "      <th>...</th>\n",
       "      <td>...</td>\n",
       "      <td>...</td>\n",
       "      <td>...</td>\n",
       "    </tr>\n",
       "    <tr>\n",
       "      <th>2019-09-30 22:00:00</th>\n",
       "      <td>0</td>\n",
       "      <td>2019-09-30 22:00:00</td>\n",
       "      <td>0</td>\n",
       "    </tr>\n",
       "    <tr>\n",
       "      <th>2019-09-30 22:20:00</th>\n",
       "      <td>-1</td>\n",
       "      <td>2019-09-30 22:20:00</td>\n",
       "      <td>0</td>\n",
       "    </tr>\n",
       "    <tr>\n",
       "      <th>2019-09-30 22:40:00</th>\n",
       "      <td>0</td>\n",
       "      <td>2019-09-30 22:40:00</td>\n",
       "      <td>0</td>\n",
       "    </tr>\n",
       "    <tr>\n",
       "      <th>2019-09-30 23:00:00</th>\n",
       "      <td>-1</td>\n",
       "      <td>2019-09-30 23:00:00</td>\n",
       "      <td>0</td>\n",
       "    </tr>\n",
       "    <tr>\n",
       "      <th>2019-09-30 23:20:00</th>\n",
       "      <td>0</td>\n",
       "      <td>2019-09-30 23:20:00</td>\n",
       "      <td>0</td>\n",
       "    </tr>\n",
       "  </tbody>\n",
       "</table>\n",
       "<p>2159 rows × 3 columns</p>\n",
       "</div>"
      ],
      "text/plain": [
       "                     Vahi                time  weekday\n",
       "2019-09-01 00:00:00    -1 2019-09-01 00:00:00        6\n",
       "2019-09-01 00:20:00     0 2019-09-01 00:20:00        6\n",
       "2019-09-01 00:40:00     0 2019-09-01 00:40:00        6\n",
       "2019-09-01 01:00:00    -1 2019-09-01 01:00:00        6\n",
       "2019-09-01 01:20:00     0 2019-09-01 01:20:00        6\n",
       "...                   ...                 ...      ...\n",
       "2019-09-30 22:00:00     0 2019-09-30 22:00:00        0\n",
       "2019-09-30 22:20:00    -1 2019-09-30 22:20:00        0\n",
       "2019-09-30 22:40:00     0 2019-09-30 22:40:00        0\n",
       "2019-09-30 23:00:00    -1 2019-09-30 23:00:00        0\n",
       "2019-09-30 23:20:00     0 2019-09-30 23:20:00        0\n",
       "\n",
       "[2159 rows x 3 columns]"
      ]
     },
     "execution_count": 500,
     "metadata": {},
     "output_type": "execute_result"
    }
   ],
   "source": [
    "row = p.iloc[66] #valid huvipakkuva stationi indeksi\n",
    "rr = pd.DataFrame(row)\n",
    "rr['time'] = rr.index\n",
    "rr['weekday'] = rr['time'].dt.dayofweek\n",
    "rr"
   ]
  },
  {
   "cell_type": "code",
   "execution_count": null,
   "metadata": {},
   "outputs": [],
   "source": []
  },
  {
   "cell_type": "code",
   "execution_count": null,
   "metadata": {},
   "outputs": [],
   "source": [
    "#Heatmap, mis näitab valitud perioodi päevade keskmist vastaval kellaajal"
   ]
  },
  {
   "cell_type": "code",
   "execution_count": 494,
   "metadata": {},
   "outputs": [],
   "source": [
    "import numpy as np; np.random.seed(0)\n",
    "import seaborn as sns; sns.set_theme()\n",
    "import datetime as dt\n",
    "import matplotlib.pyplot as plt\n",
    "import matplotlib.dates as mdates\n",
    "from matplotlib.dates import DayLocator, HourLocator, DateFormatter, drange"
   ]
  },
  {
   "cell_type": "code",
   "execution_count": 495,
   "metadata": {},
   "outputs": [
    {
     "data": {
      "image/png": "[encoded data removed]",
      "text/plain": [
       "<Figure size 936x720 with 2 Axes>"
      ]
     },
     "metadata": {},
     "output_type": "display_data"
    }
   ],
   "source": [
    "uus_rr = rr.copy()\n",
    "uus_rr['time'] = uus_rr.time.dt.strftime('%H:%M')\n",
    "\n",
    "uus_rr = uus_rr.reset_index()\n",
    "\n",
    "uus_rr = uus_rr[(uus_rr['index'].dt.time > dt.time(6, 19)) & (uus_rr['index'].dt.time < dt.time(10, 41))] #kellaajad siia\n",
    "\n",
    "uus_rr = uus_rr.drop('index', axis=1)\n",
    "uus_rr.set_index('time')\n",
    "\n",
    "uus_rr['weekday'].replace({0:'Monday', 1:'Tuesday', 2:'Wednesday',  3:'Thursday', 4:'Friday', 5:'Saturday', 6:'Sunday'}, inplace=True)\n",
    "uus_rr['weekday'] = pd.Categorical(uus_rr['weekday'], categories=['Monday', 'Tuesday', 'Wednesday', 'Thursday', 'Friday', 'Saturday', 'Sunday'], ordered=True)\n",
    "uus_rr = uus_rr.sort_values('weekday', ascending=False)\n",
    "\n",
    "uus_rr = uus_rr.groupby(['weekday', 'time']).mean()\n",
    "uus_rr = uus_rr.unstack(level=0)\n",
    "\n",
    "axHM = plt.subplots(figsize=(13,10))\n",
    "axHM = sns.heatmap(uus_rr, cbar_kws={\"orientation\": \"horizontal\"})"
   ]
  },
  {
   "cell_type": "code",
   "execution_count": null,
   "metadata": {},
   "outputs": [],
   "source": []
  },
  {
   "cell_type": "code",
   "execution_count": null,
   "metadata": {},
   "outputs": [],
   "source": []
  },
  {
   "cell_type": "code",
   "execution_count": 447,
   "metadata": {},
   "outputs": [],
   "source": [
    "dti = pd.date_range(\"05:00\", \"23:40\", freq=\"20min\").time\n",
    "w = [0, 1, 2, 3, 4, 5, 6]\n",
    "graf = pd.DataFrame({'start':0} ,index = w)\n",
    "for i in range(57):\n",
    "    c = dti[i]\n",
    "    b = rr.at_time(c)\n",
    "    d = b.groupby(['weekday']).mean()\n",
    "    graf[c] = d"
   ]
  },
  {
   "cell_type": "code",
   "execution_count": 448,
   "metadata": {},
   "outputs": [],
   "source": [
    "fg = pd.DataFrame(graf.iloc[0:5].mean())\n",
    "k = fg.rename(columns={0: \"meanN\"})"
   ]
  },
  {
   "cell_type": "code",
   "execution_count": 449,
   "metadata": {},
   "outputs": [],
   "source": [
    "k['time'] = k.index\n",
    "k['y'] = 0\n",
    "k.loc[k.meanN > 0, 'y'] = 1\n",
    "q = k.drop('start', axis=0)"
   ]
  },
  {
   "cell_type": "code",
   "execution_count": 450,
   "metadata": {},
   "outputs": [],
   "source": [
    "q[['h','m','s']] = q['time'].astype(str).str.split(':', expand=True).astype(int)\n",
    "q\n",
    "proov = q.drop(columns=['time'])"
   ]
  },
  {
   "cell_type": "code",
   "execution_count": 451,
   "metadata": {
    "scrolled": true
   },
   "outputs": [],
   "source": [
    "X_train = proov.drop([\"y\", \"meanN\"], axis=1)\n",
    "y_train = proov[\"y\"]"
   ]
  },
  {
   "cell_type": "code",
   "execution_count": null,
   "metadata": {},
   "outputs": [],
   "source": []
  },
  {
   "cell_type": "code",
   "execution_count": null,
   "metadata": {},
   "outputs": [],
   "source": [
    "#TEST"
   ]
  },
  {
   "cell_type": "code",
   "execution_count": 452,
   "metadata": {},
   "outputs": [],
   "source": [
    "periood = sorteeritud.loc[(sorteeritud['time'] >= '2019 10 01') & (sorteeritud['time'] <= '2019 11 01')]\n",
    "periood = periood.reset_index()"
   ]
  },
  {
   "cell_type": "code",
   "execution_count": 453,
   "metadata": {},
   "outputs": [],
   "source": [
    "dokid = np.unique(periood[['station']].values)"
   ]
  },
  {
   "cell_type": "code",
   "execution_count": 454,
   "metadata": {
    "scrolled": true
   },
   "outputs": [],
   "source": [
    "tim = pd.Timestamp('2019-10-01') #perioodi alguskuupäev sisse\n",
    "vahemik = pd.to_timedelta(\"00:20:00\")                                      #5min, vb vähem- ei pannud tähele kui lõpetas\n",
    "uus = pd.DataFrame({'start':0} ,index = dokid)\n",
    "col = pd.DataFrame({tim:0} ,index = dokid)\n",
    "\n",
    "for i, station in enumerate(periood.station):\n",
    "    station = periood['station'][i]\n",
    "    time = periood['time'][i]\n",
    "    minek = periood['minek'][i]\n",
    "    while (abs(tim - time) > vahemik):\n",
    "        uus[tim] = col\n",
    "        tim += vahemik\n",
    "        col = pd.DataFrame({tim:0} ,index = dokid)\n",
    "    else:\n",
    "        if minek == 0:\n",
    "            col[tim][station] -= 1\n",
    "        else:\n",
    "            col[tim][station] += 1"
   ]
  },
  {
   "cell_type": "code",
   "execution_count": 455,
   "metadata": {
    "scrolled": true
   },
   "outputs": [],
   "source": [
    "p = uus.drop(columns=['start'])"
   ]
  },
  {
   "cell_type": "code",
   "execution_count": 458,
   "metadata": {},
   "outputs": [
    {
     "data": {
      "text/html": [
       "<div>\n",
       "<style scoped>\n",
       "    .dataframe tbody tr th:only-of-type {\n",
       "        vertical-align: middle;\n",
       "    }\n",
       "\n",
       "    .dataframe tbody tr th {\n",
       "        vertical-align: top;\n",
       "    }\n",
       "\n",
       "    .dataframe thead th {\n",
       "        text-align: right;\n",
       "    }\n",
       "</style>\n",
       "<table border=\"1\" class=\"dataframe\">\n",
       "  <thead>\n",
       "    <tr style=\"text-align: right;\">\n",
       "      <th></th>\n",
       "      <th>Uueturu</th>\n",
       "      <th>time</th>\n",
       "      <th>weekday</th>\n",
       "    </tr>\n",
       "  </thead>\n",
       "  <tbody>\n",
       "    <tr>\n",
       "      <th>2019-10-01 00:00:00</th>\n",
       "      <td>1</td>\n",
       "      <td>2019-10-01 00:00:00</td>\n",
       "      <td>1</td>\n",
       "    </tr>\n",
       "    <tr>\n",
       "      <th>2019-10-01 00:20:00</th>\n",
       "      <td>-1</td>\n",
       "      <td>2019-10-01 00:20:00</td>\n",
       "      <td>1</td>\n",
       "    </tr>\n",
       "    <tr>\n",
       "      <th>2019-10-01 00:40:00</th>\n",
       "      <td>0</td>\n",
       "      <td>2019-10-01 00:40:00</td>\n",
       "      <td>1</td>\n",
       "    </tr>\n",
       "    <tr>\n",
       "      <th>2019-10-01 01:00:00</th>\n",
       "      <td>0</td>\n",
       "      <td>2019-10-01 01:00:00</td>\n",
       "      <td>1</td>\n",
       "    </tr>\n",
       "    <tr>\n",
       "      <th>2019-10-01 01:20:00</th>\n",
       "      <td>0</td>\n",
       "      <td>2019-10-01 01:20:00</td>\n",
       "      <td>1</td>\n",
       "    </tr>\n",
       "    <tr>\n",
       "      <th>...</th>\n",
       "      <td>...</td>\n",
       "      <td>...</td>\n",
       "      <td>...</td>\n",
       "    </tr>\n",
       "    <tr>\n",
       "      <th>2019-10-31 22:00:00</th>\n",
       "      <td>2</td>\n",
       "      <td>2019-10-31 22:00:00</td>\n",
       "      <td>3</td>\n",
       "    </tr>\n",
       "    <tr>\n",
       "      <th>2019-10-31 22:20:00</th>\n",
       "      <td>-1</td>\n",
       "      <td>2019-10-31 22:20:00</td>\n",
       "      <td>3</td>\n",
       "    </tr>\n",
       "    <tr>\n",
       "      <th>2019-10-31 22:40:00</th>\n",
       "      <td>0</td>\n",
       "      <td>2019-10-31 22:40:00</td>\n",
       "      <td>3</td>\n",
       "    </tr>\n",
       "    <tr>\n",
       "      <th>2019-10-31 23:00:00</th>\n",
       "      <td>1</td>\n",
       "      <td>2019-10-31 23:00:00</td>\n",
       "      <td>3</td>\n",
       "    </tr>\n",
       "    <tr>\n",
       "      <th>2019-10-31 23:20:00</th>\n",
       "      <td>2</td>\n",
       "      <td>2019-10-31 23:20:00</td>\n",
       "      <td>3</td>\n",
       "    </tr>\n",
       "  </tbody>\n",
       "</table>\n",
       "<p>2231 rows × 3 columns</p>\n",
       "</div>"
      ],
      "text/plain": [
       "                     Uueturu                time  weekday\n",
       "2019-10-01 00:00:00        1 2019-10-01 00:00:00        1\n",
       "2019-10-01 00:20:00       -1 2019-10-01 00:20:00        1\n",
       "2019-10-01 00:40:00        0 2019-10-01 00:40:00        1\n",
       "2019-10-01 01:00:00        0 2019-10-01 01:00:00        1\n",
       "2019-10-01 01:20:00        0 2019-10-01 01:20:00        1\n",
       "...                      ...                 ...      ...\n",
       "2019-10-31 22:00:00        2 2019-10-31 22:00:00        3\n",
       "2019-10-31 22:20:00       -1 2019-10-31 22:20:00        3\n",
       "2019-10-31 22:40:00        0 2019-10-31 22:40:00        3\n",
       "2019-10-31 23:00:00        1 2019-10-31 23:00:00        3\n",
       "2019-10-31 23:20:00        2 2019-10-31 23:20:00        3\n",
       "\n",
       "[2231 rows x 3 columns]"
      ]
     },
     "execution_count": 458,
     "metadata": {},
     "output_type": "execute_result"
    }
   ],
   "source": [
    "row = p.iloc[64] #valid huvipakkuva stationi indeksi\n",
    "rr = pd.DataFrame(row)\n",
    "rr['time'] = rr.index\n",
    "rr['weekday'] = rr['time'].dt.dayofweek\n",
    "rr"
   ]
  },
  {
   "cell_type": "code",
   "execution_count": 459,
   "metadata": {
    "scrolled": true
   },
   "outputs": [],
   "source": [
    "dti = pd.date_range(\"05:00\", \"23:40\", freq=\"20min\").time\n",
    "w = [0, 1, 2, 3, 4, 5, 6]\n",
    "graf = pd.DataFrame({'start':0} ,index = w)\n",
    "for i in range(57):\n",
    "    c = dti[i]\n",
    "    b = rr.at_time(c)\n",
    "    d = b.groupby(['weekday']).mean()\n",
    "    graf[c] = d"
   ]
  },
  {
   "cell_type": "code",
   "execution_count": 460,
   "metadata": {},
   "outputs": [],
   "source": [
    "fg = pd.DataFrame(graf.iloc[0:5].mean())\n",
    "k = fg.rename(columns={0: \"meanN\"})"
   ]
  },
  {
   "cell_type": "code",
   "execution_count": 461,
   "metadata": {},
   "outputs": [],
   "source": [
    "k['time'] = k.index\n",
    "k['y'] = 0\n",
    "k.loc[k.meanN > 0, 'y'] = 1\n",
    "q = k.drop('start', axis=0)"
   ]
  },
  {
   "cell_type": "code",
   "execution_count": 462,
   "metadata": {},
   "outputs": [],
   "source": [
    "q[['h','m','s']] = q['time'].astype(str).str.split(':', expand=True).astype(int)\n",
    "q\n",
    "proov = q.drop(columns=['time'])"
   ]
  },
  {
   "cell_type": "code",
   "execution_count": 463,
   "metadata": {},
   "outputs": [],
   "source": [
    "X_test = proov.drop([\"y\", \"meanN\"], axis=1)\n",
    "y_test = proov[\"y\"]"
   ]
  },
  {
   "cell_type": "code",
   "execution_count": null,
   "metadata": {},
   "outputs": [],
   "source": []
  },
  {
   "cell_type": "code",
   "execution_count": null,
   "metadata": {
    "scrolled": true
   },
   "outputs": [],
   "source": []
  },
  {
   "cell_type": "code",
   "execution_count": null,
   "metadata": {},
   "outputs": [],
   "source": []
  },
  {
   "cell_type": "code",
   "execution_count": null,
   "metadata": {
    "scrolled": true
   },
   "outputs": [],
   "source": [
    "#TREENING JA TEST"
   ]
  },
  {
   "cell_type": "code",
   "execution_count": 464,
   "metadata": {},
   "outputs": [],
   "source": [
    "from sklearn.ensemble import RandomForestClassifier\n",
    "from sklearn.metrics import roc_auc_score"
   ]
  },
  {
   "cell_type": "code",
   "execution_count": 465,
   "metadata": {
    "scrolled": true
   },
   "outputs": [],
   "source": [
    "rf_1 = RandomForestClassifier(n_estimators=100, max_depth=4, random_state=0).fit(X_train, y_train)\n",
    "probs = pd.DataFrame(rf_1.predict_proba(X_test), columns=['y0','y1'])['y1']"
   ]
  },
  {
   "cell_type": "code",
   "execution_count": 466,
   "metadata": {
    "scrolled": true
   },
   "outputs": [
    {
     "data": {
      "text/plain": [
       "0.7462962962962961"
      ]
     },
     "execution_count": 466,
     "metadata": {},
     "output_type": "execute_result"
    }
   ],
   "source": [
    "x = roc_auc_score(y_test, probs)\n",
    "x"
   ]
  }
 ],
 "metadata": {
  "kernelspec": {
   "display_name": "Python 3",
   "language": "python",
   "name": "python3"
  },
  "language_info": {
   "codemirror_mode": {
    "name": "ipython",
    "version": 3
   },
   "file_extension": ".py",
   "mimetype": "text/x-python",
   "name": "python",
   "nbconvert_exporter": "python",
   "pygments_lexer": "ipython3",
   "version": "3.8.6"
  }
 },
 "nbformat": 4,
 "nbformat_minor": 4
}
