{
 "cells": [
  {
   "cell_type": "code",
   "execution_count": 65,
   "metadata": {},
   "outputs": [],
   "source": [
    "import matplotlib.pyplot as plt \n",
    "import numpy as np\n",
    "import pandas as pd"
   ]
  },
  {
   "cell_type": "code",
   "execution_count": 66,
   "metadata": {},
   "outputs": [],
   "source": [
    "data1 = pd.read_csv(\"testike3.csv\")"
   ]
  },
  {
   "cell_type": "code",
   "execution_count": 3,
   "metadata": {},
   "outputs": [
    {
     "data": {
      "text/html": [
       "<div>\n",
       "<style scoped>\n",
       "    .dataframe tbody tr th:only-of-type {\n",
       "        vertical-align: middle;\n",
       "    }\n",
       "\n",
       "    .dataframe tbody tr th {\n",
       "        vertical-align: top;\n",
       "    }\n",
       "\n",
       "    .dataframe thead th {\n",
       "        text-align: right;\n",
       "    }\n",
       "</style>\n",
       "<table border=\"1\" class=\"dataframe\">\n",
       "  <thead>\n",
       "    <tr style=\"text-align: right;\">\n",
       "      <th></th>\n",
       "      <th>unlockedat</th>\n",
       "      <th>unlockedattime</th>\n",
       "      <th>lockedat</th>\n",
       "      <th>lockedattime</th>\n",
       "      <th>length</th>\n",
       "      <th>startstationname</th>\n",
       "      <th>endstationname</th>\n",
       "    </tr>\n",
       "  </thead>\n",
       "  <tbody>\n",
       "    <tr>\n",
       "      <th>0</th>\n",
       "      <td>01/06/2019</td>\n",
       "      <td>09:37:57</td>\n",
       "      <td>01/06/2019</td>\n",
       "      <td>10:18:07</td>\n",
       "      <td>0.04</td>\n",
       "      <td>Warehouse</td>\n",
       "      <td>Warehouse</td>\n",
       "    </tr>\n",
       "    <tr>\n",
       "      <th>1</th>\n",
       "      <td>01/06/2019</td>\n",
       "      <td>09:39:42</td>\n",
       "      <td>01/06/2019</td>\n",
       "      <td>10:13:56</td>\n",
       "      <td>0.07</td>\n",
       "      <td>Undetermined</td>\n",
       "      <td>Warehouse</td>\n",
       "    </tr>\n",
       "    <tr>\n",
       "      <th>2</th>\n",
       "      <td>01/06/2019</td>\n",
       "      <td>09:41:28</td>\n",
       "      <td>01/06/2019</td>\n",
       "      <td>10:19:49</td>\n",
       "      <td>0.03</td>\n",
       "      <td>Undetermined</td>\n",
       "      <td>Warehouse</td>\n",
       "    </tr>\n",
       "    <tr>\n",
       "      <th>3</th>\n",
       "      <td>01/06/2019</td>\n",
       "      <td>09:48:09</td>\n",
       "      <td>01/06/2019</td>\n",
       "      <td>10:22:08</td>\n",
       "      <td>0.03</td>\n",
       "      <td>Warehouse</td>\n",
       "      <td>Warehouse</td>\n",
       "    </tr>\n",
       "    <tr>\n",
       "      <th>4</th>\n",
       "      <td>01/06/2019</td>\n",
       "      <td>10:02:54</td>\n",
       "      <td>01/06/2019</td>\n",
       "      <td>10:05:17</td>\n",
       "      <td>0.02</td>\n",
       "      <td>Warehouse</td>\n",
       "      <td>Warehouse</td>\n",
       "    </tr>\n",
       "  </tbody>\n",
       "</table>\n",
       "</div>"
      ],
      "text/plain": [
       "   unlockedat unlockedattime    lockedat lockedattime  length  \\\n",
       "0  01/06/2019       09:37:57  01/06/2019     10:18:07    0.04   \n",
       "1  01/06/2019       09:39:42  01/06/2019     10:13:56    0.07   \n",
       "2  01/06/2019       09:41:28  01/06/2019     10:19:49    0.03   \n",
       "3  01/06/2019       09:48:09  01/06/2019     10:22:08    0.03   \n",
       "4  01/06/2019       10:02:54  01/06/2019     10:05:17    0.02   \n",
       "\n",
       "  startstationname endstationname  \n",
       "0        Warehouse      Warehouse  \n",
       "1     Undetermined      Warehouse  \n",
       "2     Undetermined      Warehouse  \n",
       "3        Warehouse      Warehouse  \n",
       "4        Warehouse      Warehouse  "
      ]
     },
     "execution_count": 3,
     "metadata": {},
     "output_type": "execute_result"
    }
   ],
   "source": [
    "data1.head()"
   ]
  },
  {
   "cell_type": "code",
   "execution_count": 42,
   "metadata": {},
   "outputs": [
    {
     "data": {
      "text/plain": [
       "unlockedat                  object\n",
       "unlockedattime              object\n",
       "lockedat                    object\n",
       "lockedattime                object\n",
       "length                     float64\n",
       "startstationname            object\n",
       "endstationname              object\n",
       "unlocked            datetime64[ns]\n",
       "locked              datetime64[ns]\n",
       "dtype: object"
      ]
     },
     "execution_count": 42,
     "metadata": {},
     "output_type": "execute_result"
    }
   ],
   "source": [
    "data1.dtypes"
   ]
  },
  {
   "cell_type": "code",
   "execution_count": 4,
   "metadata": {},
   "outputs": [
    {
     "data": {
      "text/html": [
       "<div>\n",
       "<style scoped>\n",
       "    .dataframe tbody tr th:only-of-type {\n",
       "        vertical-align: middle;\n",
       "    }\n",
       "\n",
       "    .dataframe tbody tr th {\n",
       "        vertical-align: top;\n",
       "    }\n",
       "\n",
       "    .dataframe thead th {\n",
       "        text-align: right;\n",
       "    }\n",
       "</style>\n",
       "<table border=\"1\" class=\"dataframe\">\n",
       "  <thead>\n",
       "    <tr style=\"text-align: right;\">\n",
       "      <th></th>\n",
       "      <th>unlockedat</th>\n",
       "      <th>unlockedattime</th>\n",
       "      <th>lockedat</th>\n",
       "      <th>lockedattime</th>\n",
       "      <th>length</th>\n",
       "      <th>startstationname</th>\n",
       "      <th>endstationname</th>\n",
       "    </tr>\n",
       "  </thead>\n",
       "  <tbody>\n",
       "    <tr>\n",
       "      <th>212295</th>\n",
       "      <td>23/06/2019</td>\n",
       "      <td>20:04:43</td>\n",
       "      <td>23/06/2019</td>\n",
       "      <td>20:05:31</td>\n",
       "      <td>0.02</td>\n",
       "      <td>K. E. von Baeri</td>\n",
       "      <td>K. E. von Baeri</td>\n",
       "    </tr>\n",
       "    <tr>\n",
       "      <th>212296</th>\n",
       "      <td>23/06/2019</td>\n",
       "      <td>20:05:17</td>\n",
       "      <td>23/06/2019</td>\n",
       "      <td>20:27:32</td>\n",
       "      <td>0.14</td>\n",
       "      <td>Kivilinna</td>\n",
       "      <td>ERM</td>\n",
       "    </tr>\n",
       "    <tr>\n",
       "      <th>212297</th>\n",
       "      <td>23/06/2019</td>\n",
       "      <td>20:05:34</td>\n",
       "      <td>23/06/2019</td>\n",
       "      <td>20:25:44</td>\n",
       "      <td>1.28</td>\n",
       "      <td>Orava</td>\n",
       "      <td>ERM</td>\n",
       "    </tr>\n",
       "    <tr>\n",
       "      <th>212298</th>\n",
       "      <td>23/06/2019</td>\n",
       "      <td>20:05:35</td>\n",
       "      <td>23/06/2019</td>\n",
       "      <td>20:49:23</td>\n",
       "      <td>5.84</td>\n",
       "      <td>Uueturu</td>\n",
       "      <td>Vabadussild</td>\n",
       "    </tr>\n",
       "    <tr>\n",
       "      <th>212299</th>\n",
       "      <td>23/06/2019</td>\n",
       "      <td>20:05:38</td>\n",
       "      <td>23/06/2019</td>\n",
       "      <td>20:38:11</td>\n",
       "      <td>1.99</td>\n",
       "      <td>Raatuse kool</td>\n",
       "      <td>ERM</td>\n",
       "    </tr>\n",
       "  </tbody>\n",
       "</table>\n",
       "</div>"
      ],
      "text/plain": [
       "        unlockedat unlockedattime    lockedat lockedattime  length  \\\n",
       "212295  23/06/2019       20:04:43  23/06/2019     20:05:31    0.02   \n",
       "212296  23/06/2019       20:05:17  23/06/2019     20:27:32    0.14   \n",
       "212297  23/06/2019       20:05:34  23/06/2019     20:25:44    1.28   \n",
       "212298  23/06/2019       20:05:35  23/06/2019     20:49:23    5.84   \n",
       "212299  23/06/2019       20:05:38  23/06/2019     20:38:11    1.99   \n",
       "\n",
       "       startstationname   endstationname  \n",
       "212295  K. E. von Baeri  K. E. von Baeri  \n",
       "212296        Kivilinna              ERM  \n",
       "212297            Orava              ERM  \n",
       "212298          Uueturu      Vabadussild  \n",
       "212299     Raatuse kool              ERM  "
      ]
     },
     "execution_count": 4,
     "metadata": {},
     "output_type": "execute_result"
    }
   ],
   "source": [
    "data1.tail()"
   ]
  },
  {
   "cell_type": "code",
   "execution_count": null,
   "metadata": {},
   "outputs": [],
   "source": []
  },
  {
   "cell_type": "code",
   "execution_count": 48,
   "metadata": {},
   "outputs": [
    {
     "ename": "TypeError",
     "evalue": "unsupported operand type(s) for /: 'str' and 'int'",
     "output_type": "error",
     "traceback": [
      "\u001b[1;31m---------------------------------------------------------------------------\u001b[0m",
      "\u001b[1;31mTypeError\u001b[0m                                 Traceback (most recent call last)",
      "\u001b[1;32m<ipython-input-48-a99c1ffeb3aa>\u001b[0m in \u001b[0;36m<module>\u001b[1;34m\u001b[0m\n\u001b[0;32m      1\u001b[0m \u001b[1;31m#Otsin kas avamisaeg ja sõidu pikkus on omavahel korreleeritud\u001b[0m\u001b[1;33m\u001b[0m\u001b[1;33m\u001b[0m\u001b[1;33m\u001b[0m\u001b[0m\n\u001b[0;32m      2\u001b[0m \u001b[0mdata1_copy\u001b[0m \u001b[1;33m=\u001b[0m \u001b[0mdata1\u001b[0m\u001b[1;33m.\u001b[0m\u001b[0mcopy\u001b[0m\u001b[1;33m(\u001b[0m\u001b[1;33m)\u001b[0m\u001b[1;33m\u001b[0m\u001b[1;33m\u001b[0m\u001b[0m\n\u001b[1;32m----> 3\u001b[1;33m \u001b[0mdata1_copy\u001b[0m\u001b[1;33m[\u001b[0m\u001b[1;34m'unlockedattime'\u001b[0m\u001b[1;33m]\u001b[0m\u001b[1;33m.\u001b[0m\u001b[0mcorr\u001b[0m\u001b[1;33m(\u001b[0m\u001b[0mdata1_copy\u001b[0m\u001b[1;33m[\u001b[0m\u001b[1;34m'length'\u001b[0m\u001b[1;33m]\u001b[0m\u001b[1;33m)\u001b[0m\u001b[1;33m\u001b[0m\u001b[1;33m\u001b[0m\u001b[0m\n\u001b[0m",
      "\u001b[1;32m~\\AppData\\Local\\Packages\\PythonSoftwareFoundation.Python.3.8_qbz5n2kfra8p0\\LocalCache\\local-packages\\Python38\\site-packages\\pandas\\core\\series.py\u001b[0m in \u001b[0;36mcorr\u001b[1;34m(self, other, method, min_periods)\u001b[0m\n\u001b[0;32m   2319\u001b[0m \u001b[1;33m\u001b[0m\u001b[0m\n\u001b[0;32m   2320\u001b[0m         \u001b[1;32mif\u001b[0m \u001b[0mmethod\u001b[0m \u001b[1;32min\u001b[0m \u001b[1;33m[\u001b[0m\u001b[1;34m\"pearson\"\u001b[0m\u001b[1;33m,\u001b[0m \u001b[1;34m\"spearman\"\u001b[0m\u001b[1;33m,\u001b[0m \u001b[1;34m\"kendall\"\u001b[0m\u001b[1;33m]\u001b[0m \u001b[1;32mor\u001b[0m \u001b[0mcallable\u001b[0m\u001b[1;33m(\u001b[0m\u001b[0mmethod\u001b[0m\u001b[1;33m)\u001b[0m\u001b[1;33m:\u001b[0m\u001b[1;33m\u001b[0m\u001b[1;33m\u001b[0m\u001b[0m\n\u001b[1;32m-> 2321\u001b[1;33m             return nanops.nancorr(\n\u001b[0m\u001b[0;32m   2322\u001b[0m                 \u001b[0mthis\u001b[0m\u001b[1;33m.\u001b[0m\u001b[0mvalues\u001b[0m\u001b[1;33m,\u001b[0m \u001b[0mother\u001b[0m\u001b[1;33m.\u001b[0m\u001b[0mvalues\u001b[0m\u001b[1;33m,\u001b[0m \u001b[0mmethod\u001b[0m\u001b[1;33m=\u001b[0m\u001b[0mmethod\u001b[0m\u001b[1;33m,\u001b[0m \u001b[0mmin_periods\u001b[0m\u001b[1;33m=\u001b[0m\u001b[0mmin_periods\u001b[0m\u001b[1;33m\u001b[0m\u001b[1;33m\u001b[0m\u001b[0m\n\u001b[0;32m   2323\u001b[0m             )\n",
      "\u001b[1;32m~\\AppData\\Local\\Packages\\PythonSoftwareFoundation.Python.3.8_qbz5n2kfra8p0\\LocalCache\\local-packages\\Python38\\site-packages\\pandas\\core\\nanops.py\u001b[0m in \u001b[0;36m_f\u001b[1;34m(*args, **kwargs)\u001b[0m\n\u001b[0;32m     69\u001b[0m             \u001b[1;32mtry\u001b[0m\u001b[1;33m:\u001b[0m\u001b[1;33m\u001b[0m\u001b[1;33m\u001b[0m\u001b[0m\n\u001b[0;32m     70\u001b[0m                 \u001b[1;32mwith\u001b[0m \u001b[0mnp\u001b[0m\u001b[1;33m.\u001b[0m\u001b[0merrstate\u001b[0m\u001b[1;33m(\u001b[0m\u001b[0minvalid\u001b[0m\u001b[1;33m=\u001b[0m\u001b[1;34m\"ignore\"\u001b[0m\u001b[1;33m)\u001b[0m\u001b[1;33m:\u001b[0m\u001b[1;33m\u001b[0m\u001b[1;33m\u001b[0m\u001b[0m\n\u001b[1;32m---> 71\u001b[1;33m                     \u001b[1;32mreturn\u001b[0m \u001b[0mf\u001b[0m\u001b[1;33m(\u001b[0m\u001b[1;33m*\u001b[0m\u001b[0margs\u001b[0m\u001b[1;33m,\u001b[0m \u001b[1;33m**\u001b[0m\u001b[0mkwargs\u001b[0m\u001b[1;33m)\u001b[0m\u001b[1;33m\u001b[0m\u001b[1;33m\u001b[0m\u001b[0m\n\u001b[0m\u001b[0;32m     72\u001b[0m             \u001b[1;32mexcept\u001b[0m \u001b[0mValueError\u001b[0m \u001b[1;32mas\u001b[0m \u001b[0me\u001b[0m\u001b[1;33m:\u001b[0m\u001b[1;33m\u001b[0m\u001b[1;33m\u001b[0m\u001b[0m\n\u001b[0;32m     73\u001b[0m                 \u001b[1;31m# we want to transform an object array\u001b[0m\u001b[1;33m\u001b[0m\u001b[1;33m\u001b[0m\u001b[1;33m\u001b[0m\u001b[0m\n",
      "\u001b[1;32m~\\AppData\\Local\\Packages\\PythonSoftwareFoundation.Python.3.8_qbz5n2kfra8p0\\LocalCache\\local-packages\\Python38\\site-packages\\pandas\\core\\nanops.py\u001b[0m in \u001b[0;36mnancorr\u001b[1;34m(a, b, method, min_periods)\u001b[0m\n\u001b[0;32m   1350\u001b[0m \u001b[1;33m\u001b[0m\u001b[0m\n\u001b[0;32m   1351\u001b[0m     \u001b[0mf\u001b[0m \u001b[1;33m=\u001b[0m \u001b[0mget_corr_func\u001b[0m\u001b[1;33m(\u001b[0m\u001b[0mmethod\u001b[0m\u001b[1;33m)\u001b[0m\u001b[1;33m\u001b[0m\u001b[1;33m\u001b[0m\u001b[0m\n\u001b[1;32m-> 1352\u001b[1;33m     \u001b[1;32mreturn\u001b[0m \u001b[0mf\u001b[0m\u001b[1;33m(\u001b[0m\u001b[0ma\u001b[0m\u001b[1;33m,\u001b[0m \u001b[0mb\u001b[0m\u001b[1;33m)\u001b[0m\u001b[1;33m\u001b[0m\u001b[1;33m\u001b[0m\u001b[0m\n\u001b[0m\u001b[0;32m   1353\u001b[0m \u001b[1;33m\u001b[0m\u001b[0m\n\u001b[0;32m   1354\u001b[0m \u001b[1;33m\u001b[0m\u001b[0m\n",
      "\u001b[1;32m~\\AppData\\Local\\Packages\\PythonSoftwareFoundation.Python.3.8_qbz5n2kfra8p0\\LocalCache\\local-packages\\Python38\\site-packages\\pandas\\core\\nanops.py\u001b[0m in \u001b[0;36mfunc\u001b[1;34m(a, b)\u001b[0m\n\u001b[0;32m   1371\u001b[0m \u001b[1;33m\u001b[0m\u001b[0m\n\u001b[0;32m   1372\u001b[0m         \u001b[1;32mdef\u001b[0m \u001b[0mfunc\u001b[0m\u001b[1;33m(\u001b[0m\u001b[0ma\u001b[0m\u001b[1;33m,\u001b[0m \u001b[0mb\u001b[0m\u001b[1;33m)\u001b[0m\u001b[1;33m:\u001b[0m\u001b[1;33m\u001b[0m\u001b[1;33m\u001b[0m\u001b[0m\n\u001b[1;32m-> 1373\u001b[1;33m             \u001b[1;32mreturn\u001b[0m \u001b[0mnp\u001b[0m\u001b[1;33m.\u001b[0m\u001b[0mcorrcoef\u001b[0m\u001b[1;33m(\u001b[0m\u001b[0ma\u001b[0m\u001b[1;33m,\u001b[0m \u001b[0mb\u001b[0m\u001b[1;33m)\u001b[0m\u001b[1;33m[\u001b[0m\u001b[1;36m0\u001b[0m\u001b[1;33m,\u001b[0m \u001b[1;36m1\u001b[0m\u001b[1;33m]\u001b[0m\u001b[1;33m\u001b[0m\u001b[1;33m\u001b[0m\u001b[0m\n\u001b[0m\u001b[0;32m   1374\u001b[0m \u001b[1;33m\u001b[0m\u001b[0m\n\u001b[0;32m   1375\u001b[0m         \u001b[1;32mreturn\u001b[0m \u001b[0mfunc\u001b[0m\u001b[1;33m\u001b[0m\u001b[1;33m\u001b[0m\u001b[0m\n",
      "\u001b[1;32m<__array_function__ internals>\u001b[0m in \u001b[0;36mcorrcoef\u001b[1;34m(*args, **kwargs)\u001b[0m\n",
      "\u001b[1;32m~\\AppData\\Local\\Packages\\PythonSoftwareFoundation.Python.3.8_qbz5n2kfra8p0\\LocalCache\\local-packages\\Python38\\site-packages\\numpy\\lib\\function_base.py\u001b[0m in \u001b[0;36mcorrcoef\u001b[1;34m(x, y, rowvar, bias, ddof)\u001b[0m\n\u001b[0;32m   2549\u001b[0m         warnings.warn('bias and ddof have no effect and are deprecated',\n\u001b[0;32m   2550\u001b[0m                       DeprecationWarning, stacklevel=3)\n\u001b[1;32m-> 2551\u001b[1;33m     \u001b[0mc\u001b[0m \u001b[1;33m=\u001b[0m \u001b[0mcov\u001b[0m\u001b[1;33m(\u001b[0m\u001b[0mx\u001b[0m\u001b[1;33m,\u001b[0m \u001b[0my\u001b[0m\u001b[1;33m,\u001b[0m \u001b[0mrowvar\u001b[0m\u001b[1;33m)\u001b[0m\u001b[1;33m\u001b[0m\u001b[1;33m\u001b[0m\u001b[0m\n\u001b[0m\u001b[0;32m   2552\u001b[0m     \u001b[1;32mtry\u001b[0m\u001b[1;33m:\u001b[0m\u001b[1;33m\u001b[0m\u001b[1;33m\u001b[0m\u001b[0m\n\u001b[0;32m   2553\u001b[0m         \u001b[0md\u001b[0m \u001b[1;33m=\u001b[0m \u001b[0mdiag\u001b[0m\u001b[1;33m(\u001b[0m\u001b[0mc\u001b[0m\u001b[1;33m)\u001b[0m\u001b[1;33m\u001b[0m\u001b[1;33m\u001b[0m\u001b[0m\n",
      "\u001b[1;32m<__array_function__ internals>\u001b[0m in \u001b[0;36mcov\u001b[1;34m(*args, **kwargs)\u001b[0m\n",
      "\u001b[1;32m~\\AppData\\Local\\Packages\\PythonSoftwareFoundation.Python.3.8_qbz5n2kfra8p0\\LocalCache\\local-packages\\Python38\\site-packages\\numpy\\lib\\function_base.py\u001b[0m in \u001b[0;36mcov\u001b[1;34m(m, y, rowvar, bias, ddof, fweights, aweights)\u001b[0m\n\u001b[0;32m   2454\u001b[0m             \u001b[0mw\u001b[0m \u001b[1;33m*=\u001b[0m \u001b[0maweights\u001b[0m\u001b[1;33m\u001b[0m\u001b[1;33m\u001b[0m\u001b[0m\n\u001b[0;32m   2455\u001b[0m \u001b[1;33m\u001b[0m\u001b[0m\n\u001b[1;32m-> 2456\u001b[1;33m     \u001b[0mavg\u001b[0m\u001b[1;33m,\u001b[0m \u001b[0mw_sum\u001b[0m \u001b[1;33m=\u001b[0m \u001b[0maverage\u001b[0m\u001b[1;33m(\u001b[0m\u001b[0mX\u001b[0m\u001b[1;33m,\u001b[0m \u001b[0maxis\u001b[0m\u001b[1;33m=\u001b[0m\u001b[1;36m1\u001b[0m\u001b[1;33m,\u001b[0m \u001b[0mweights\u001b[0m\u001b[1;33m=\u001b[0m\u001b[0mw\u001b[0m\u001b[1;33m,\u001b[0m \u001b[0mreturned\u001b[0m\u001b[1;33m=\u001b[0m\u001b[1;32mTrue\u001b[0m\u001b[1;33m)\u001b[0m\u001b[1;33m\u001b[0m\u001b[1;33m\u001b[0m\u001b[0m\n\u001b[0m\u001b[0;32m   2457\u001b[0m     \u001b[0mw_sum\u001b[0m \u001b[1;33m=\u001b[0m \u001b[0mw_sum\u001b[0m\u001b[1;33m[\u001b[0m\u001b[1;36m0\u001b[0m\u001b[1;33m]\u001b[0m\u001b[1;33m\u001b[0m\u001b[1;33m\u001b[0m\u001b[0m\n\u001b[0;32m   2458\u001b[0m \u001b[1;33m\u001b[0m\u001b[0m\n",
      "\u001b[1;32m<__array_function__ internals>\u001b[0m in \u001b[0;36maverage\u001b[1;34m(*args, **kwargs)\u001b[0m\n",
      "\u001b[1;32m~\\AppData\\Local\\Packages\\PythonSoftwareFoundation.Python.3.8_qbz5n2kfra8p0\\LocalCache\\local-packages\\Python38\\site-packages\\numpy\\lib\\function_base.py\u001b[0m in \u001b[0;36maverage\u001b[1;34m(a, axis, weights, returned)\u001b[0m\n\u001b[0;32m    378\u001b[0m \u001b[1;33m\u001b[0m\u001b[0m\n\u001b[0;32m    379\u001b[0m     \u001b[1;32mif\u001b[0m \u001b[0mweights\u001b[0m \u001b[1;32mis\u001b[0m \u001b[1;32mNone\u001b[0m\u001b[1;33m:\u001b[0m\u001b[1;33m\u001b[0m\u001b[1;33m\u001b[0m\u001b[0m\n\u001b[1;32m--> 380\u001b[1;33m         \u001b[0mavg\u001b[0m \u001b[1;33m=\u001b[0m \u001b[0ma\u001b[0m\u001b[1;33m.\u001b[0m\u001b[0mmean\u001b[0m\u001b[1;33m(\u001b[0m\u001b[0maxis\u001b[0m\u001b[1;33m)\u001b[0m\u001b[1;33m\u001b[0m\u001b[1;33m\u001b[0m\u001b[0m\n\u001b[0m\u001b[0;32m    381\u001b[0m         \u001b[0mscl\u001b[0m \u001b[1;33m=\u001b[0m \u001b[0mavg\u001b[0m\u001b[1;33m.\u001b[0m\u001b[0mdtype\u001b[0m\u001b[1;33m.\u001b[0m\u001b[0mtype\u001b[0m\u001b[1;33m(\u001b[0m\u001b[0ma\u001b[0m\u001b[1;33m.\u001b[0m\u001b[0msize\u001b[0m\u001b[1;33m/\u001b[0m\u001b[0mavg\u001b[0m\u001b[1;33m.\u001b[0m\u001b[0msize\u001b[0m\u001b[1;33m)\u001b[0m\u001b[1;33m\u001b[0m\u001b[1;33m\u001b[0m\u001b[0m\n\u001b[0;32m    382\u001b[0m     \u001b[1;32melse\u001b[0m\u001b[1;33m:\u001b[0m\u001b[1;33m\u001b[0m\u001b[1;33m\u001b[0m\u001b[0m\n",
      "\u001b[1;32m~\\AppData\\Local\\Packages\\PythonSoftwareFoundation.Python.3.8_qbz5n2kfra8p0\\LocalCache\\local-packages\\Python38\\site-packages\\numpy\\core\\_methods.py\u001b[0m in \u001b[0;36m_mean\u001b[1;34m(a, axis, dtype, out, keepdims)\u001b[0m\n\u001b[0;32m    160\u001b[0m     \u001b[0mret\u001b[0m \u001b[1;33m=\u001b[0m \u001b[0mumr_sum\u001b[0m\u001b[1;33m(\u001b[0m\u001b[0marr\u001b[0m\u001b[1;33m,\u001b[0m \u001b[0maxis\u001b[0m\u001b[1;33m,\u001b[0m \u001b[0mdtype\u001b[0m\u001b[1;33m,\u001b[0m \u001b[0mout\u001b[0m\u001b[1;33m,\u001b[0m \u001b[0mkeepdims\u001b[0m\u001b[1;33m)\u001b[0m\u001b[1;33m\u001b[0m\u001b[1;33m\u001b[0m\u001b[0m\n\u001b[0;32m    161\u001b[0m     \u001b[1;32mif\u001b[0m \u001b[0misinstance\u001b[0m\u001b[1;33m(\u001b[0m\u001b[0mret\u001b[0m\u001b[1;33m,\u001b[0m \u001b[0mmu\u001b[0m\u001b[1;33m.\u001b[0m\u001b[0mndarray\u001b[0m\u001b[1;33m)\u001b[0m\u001b[1;33m:\u001b[0m\u001b[1;33m\u001b[0m\u001b[1;33m\u001b[0m\u001b[0m\n\u001b[1;32m--> 162\u001b[1;33m         ret = um.true_divide(\n\u001b[0m\u001b[0;32m    163\u001b[0m                 ret, rcount, out=ret, casting='unsafe', subok=False)\n\u001b[0;32m    164\u001b[0m         \u001b[1;32mif\u001b[0m \u001b[0mis_float16_result\u001b[0m \u001b[1;32mand\u001b[0m \u001b[0mout\u001b[0m \u001b[1;32mis\u001b[0m \u001b[1;32mNone\u001b[0m\u001b[1;33m:\u001b[0m\u001b[1;33m\u001b[0m\u001b[1;33m\u001b[0m\u001b[0m\n",
      "\u001b[1;31mTypeError\u001b[0m: unsupported operand type(s) for /: 'str' and 'int'"
     ]
    }
   ],
   "source": [
    "#Otsin kas avamisaeg ja sõidu pikkus on omavahel korreleeritud\n",
    "data1_copy = data1.copy()\n",
    "data1_copy['unlockedattime'].corr(data1_copy['length'])\n"
   ]
  },
  {
   "cell_type": "code",
   "execution_count": null,
   "metadata": {},
   "outputs": [],
   "source": []
  },
  {
   "cell_type": "code",
   "execution_count": 45,
   "metadata": {},
   "outputs": [
    {
     "data": {
      "image/png": "[encoded data removed]",
      "text/plain": [
       "<Figure size 432x288 with 1 Axes>"
      ]
     },
     "metadata": {
      "needs_background": "light"
     },
     "output_type": "display_data"
    }
   ],
   "source": [
    "data1.plot(kind='scatter',x='unlockedat',y='length',color='red')\n",
    "plt.show()"
   ]
  },
  {
   "cell_type": "code",
   "execution_count": 67,
   "metadata": {},
   "outputs": [],
   "source": [
    "data1['lockedattime'] = data1['lockedattime'].astype(str).str[:8]\n",
    "data1['unlockedattime'] = data1['unlockedattime'].astype(str).str[:8]\n",
    "data1['unlocked'] = pd.to_datetime(data1['unlockedattime'] + ' ' + data1['unlockedat'], format='%H:%M:%S %d/%m/%Y')\n",
    "data1['locked'] = pd.to_datetime(data1['lockedattime'] + ' ' + data1['lockedat'], format='%H:%M:%S %d/%m/%Y')\n",
    "puhas = data1.drop(columns=['unlockedat', 'unlockedattime', 'lockedat', 'lockedattime']) #3min"
   ]
  },
  {
   "cell_type": "code",
   "execution_count": 68,
   "metadata": {},
   "outputs": [
    {
     "data": {
      "text/html": [
       "<div>\n",
       "<style scoped>\n",
       "    .dataframe tbody tr th:only-of-type {\n",
       "        vertical-align: middle;\n",
       "    }\n",
       "\n",
       "    .dataframe tbody tr th {\n",
       "        vertical-align: top;\n",
       "    }\n",
       "\n",
       "    .dataframe thead th {\n",
       "        text-align: right;\n",
       "    }\n",
       "</style>\n",
       "<table border=\"1\" class=\"dataframe\">\n",
       "  <thead>\n",
       "    <tr style=\"text-align: right;\">\n",
       "      <th></th>\n",
       "      <th>length</th>\n",
       "      <th>startstationname</th>\n",
       "      <th>endstationname</th>\n",
       "      <th>unlocked</th>\n",
       "      <th>locked</th>\n",
       "    </tr>\n",
       "  </thead>\n",
       "  <tbody>\n",
       "    <tr>\n",
       "      <th>0</th>\n",
       "      <td>0.04</td>\n",
       "      <td>Warehouse</td>\n",
       "      <td>Warehouse</td>\n",
       "      <td>2019-06-01 09:37:57</td>\n",
       "      <td>2019-06-01 10:18:07</td>\n",
       "    </tr>\n",
       "    <tr>\n",
       "      <th>1</th>\n",
       "      <td>0.07</td>\n",
       "      <td>Undetermined</td>\n",
       "      <td>Warehouse</td>\n",
       "      <td>2019-06-01 09:39:42</td>\n",
       "      <td>2019-06-01 10:13:56</td>\n",
       "    </tr>\n",
       "    <tr>\n",
       "      <th>2</th>\n",
       "      <td>0.03</td>\n",
       "      <td>Undetermined</td>\n",
       "      <td>Warehouse</td>\n",
       "      <td>2019-06-01 09:41:28</td>\n",
       "      <td>2019-06-01 10:19:49</td>\n",
       "    </tr>\n",
       "    <tr>\n",
       "      <th>3</th>\n",
       "      <td>0.03</td>\n",
       "      <td>Warehouse</td>\n",
       "      <td>Warehouse</td>\n",
       "      <td>2019-06-01 09:48:09</td>\n",
       "      <td>2019-06-01 10:22:08</td>\n",
       "    </tr>\n",
       "    <tr>\n",
       "      <th>4</th>\n",
       "      <td>0.02</td>\n",
       "      <td>Warehouse</td>\n",
       "      <td>Warehouse</td>\n",
       "      <td>2019-06-01 10:02:54</td>\n",
       "      <td>2019-06-01 10:05:17</td>\n",
       "    </tr>\n",
       "    <tr>\n",
       "      <th>...</th>\n",
       "      <td>...</td>\n",
       "      <td>...</td>\n",
       "      <td>...</td>\n",
       "      <td>...</td>\n",
       "      <td>...</td>\n",
       "    </tr>\n",
       "    <tr>\n",
       "      <th>212295</th>\n",
       "      <td>0.02</td>\n",
       "      <td>K. E. von Baeri</td>\n",
       "      <td>K. E. von Baeri</td>\n",
       "      <td>2019-06-23 20:04:43</td>\n",
       "      <td>2019-06-23 20:05:31</td>\n",
       "    </tr>\n",
       "    <tr>\n",
       "      <th>212296</th>\n",
       "      <td>0.14</td>\n",
       "      <td>Kivilinna</td>\n",
       "      <td>ERM</td>\n",
       "      <td>2019-06-23 20:05:17</td>\n",
       "      <td>2019-06-23 20:27:32</td>\n",
       "    </tr>\n",
       "    <tr>\n",
       "      <th>212297</th>\n",
       "      <td>1.28</td>\n",
       "      <td>Orava</td>\n",
       "      <td>ERM</td>\n",
       "      <td>2019-06-23 20:05:34</td>\n",
       "      <td>2019-06-23 20:25:44</td>\n",
       "    </tr>\n",
       "    <tr>\n",
       "      <th>212298</th>\n",
       "      <td>5.84</td>\n",
       "      <td>Uueturu</td>\n",
       "      <td>Vabadussild</td>\n",
       "      <td>2019-06-23 20:05:35</td>\n",
       "      <td>2019-06-23 20:49:23</td>\n",
       "    </tr>\n",
       "    <tr>\n",
       "      <th>212299</th>\n",
       "      <td>1.99</td>\n",
       "      <td>Raatuse kool</td>\n",
       "      <td>ERM</td>\n",
       "      <td>2019-06-23 20:05:38</td>\n",
       "      <td>2019-06-23 20:38:11</td>\n",
       "    </tr>\n",
       "  </tbody>\n",
       "</table>\n",
       "<p>212300 rows × 5 columns</p>\n",
       "</div>"
      ],
      "text/plain": [
       "        length startstationname   endstationname            unlocked  \\\n",
       "0         0.04        Warehouse        Warehouse 2019-06-01 09:37:57   \n",
       "1         0.07     Undetermined        Warehouse 2019-06-01 09:39:42   \n",
       "2         0.03     Undetermined        Warehouse 2019-06-01 09:41:28   \n",
       "3         0.03        Warehouse        Warehouse 2019-06-01 09:48:09   \n",
       "4         0.02        Warehouse        Warehouse 2019-06-01 10:02:54   \n",
       "...        ...              ...              ...                 ...   \n",
       "212295    0.02  K. E. von Baeri  K. E. von Baeri 2019-06-23 20:04:43   \n",
       "212296    0.14        Kivilinna              ERM 2019-06-23 20:05:17   \n",
       "212297    1.28            Orava              ERM 2019-06-23 20:05:34   \n",
       "212298    5.84          Uueturu      Vabadussild 2019-06-23 20:05:35   \n",
       "212299    1.99     Raatuse kool              ERM 2019-06-23 20:05:38   \n",
       "\n",
       "                    locked  \n",
       "0      2019-06-01 10:18:07  \n",
       "1      2019-06-01 10:13:56  \n",
       "2      2019-06-01 10:19:49  \n",
       "3      2019-06-01 10:22:08  \n",
       "4      2019-06-01 10:05:17  \n",
       "...                    ...  \n",
       "212295 2019-06-23 20:05:31  \n",
       "212296 2019-06-23 20:27:32  \n",
       "212297 2019-06-23 20:25:44  \n",
       "212298 2019-06-23 20:49:23  \n",
       "212299 2019-06-23 20:38:11  \n",
       "\n",
       "[212300 rows x 5 columns]"
      ]
     },
     "execution_count": 68,
     "metadata": {},
     "output_type": "execute_result"
    }
   ],
   "source": [
    "puhas"
   ]
  },
  {
   "cell_type": "code",
   "execution_count": 72,
   "metadata": {},
   "outputs": [
    {
     "data": {
      "text/plain": [
       "0         09:37:00\n",
       "1         09:39:00\n",
       "2         09:41:00\n",
       "3         09:48:00\n",
       "4         10:02:00\n",
       "            ...   \n",
       "212295    20:04:00\n",
       "212296    20:05:00\n",
       "212297    20:05:00\n",
       "212298    20:05:00\n",
       "212299    20:05:00\n",
       "Name: unlocked, Length: 212300, dtype: object"
      ]
     },
     "execution_count": 72,
     "metadata": {},
     "output_type": "execute_result"
    }
   ],
   "source": [
    "puhas_copy = puhas.copy()\n",
    "kell = puhas_copy['unlocked'].dt.time\n",
    "kell1 = pd.to_numeric(puhas_copy['unlocked'])\n",
    "\n",
    "kell2 = puhas_copy['unlocked'] = puhas_copy['unlocked'].dt.floor('Min')\n",
    "kell2 = kell2.dt.time\n",
    "kell2"
   ]
  },
  {
   "cell_type": "code",
   "execution_count": 86,
   "metadata": {},
   "outputs": [
    {
     "name": "stdout",
     "output_type": "stream",
     "text": [
      "0         09:37:00\n",
      "1         09:39:00\n",
      "2         09:41:00\n",
      "3         09:48:00\n",
      "4         10:02:00\n",
      "            ...   \n",
      "212295    20:04:00\n",
      "212296    20:05:00\n",
      "212297    20:05:00\n",
      "212298    20:05:00\n",
      "212299    20:05:00\n",
      "Name: unlocked, Length: 212300, dtype: object\n"
     ]
    }
   ],
   "source": [
    "#Otsin kas avamisaeg ja sõidu pikkus on omavahel korreleeritud\n",
    "puhas_copy['unlocked'] = puhas_copy['unlocked'].dt.time\n",
    "print(puhas_copy['unlocked'])"
   ]
  },
  {
   "cell_type": "code",
   "execution_count": 87,
   "metadata": {},
   "outputs": [],
   "source": [
    "kell5 = pd.to_datetime(puhas['unlocked'], format='%H:%M:%S')"
   ]
  },
  {
   "cell_type": "code",
   "execution_count": null,
   "metadata": {},
   "outputs": [],
   "source": []
  },
  {
   "cell_type": "code",
   "execution_count": 89,
   "metadata": {},
   "outputs": [],
   "source": [
    "kell5 = pd.to_numeric(kell5)"
   ]
  },
  {
   "cell_type": "code",
   "execution_count": 92,
   "metadata": {},
   "outputs": [],
   "source": [
    "puhas_copy['unlocked'] = kell5"
   ]
  },
  {
   "cell_type": "code",
   "execution_count": 93,
   "metadata": {},
   "outputs": [
    {
     "name": "stdout",
     "output_type": "stream",
     "text": [
      "0         1559381877000000000\n",
      "1         1559381982000000000\n",
      "2         1559382088000000000\n",
      "3         1559382489000000000\n",
      "4         1559383374000000000\n",
      "                 ...         \n",
      "212295    1561320283000000000\n",
      "212296    1561320317000000000\n",
      "212297    1561320334000000000\n",
      "212298    1561320335000000000\n",
      "212299    1561320338000000000\n",
      "Name: unlocked, Length: 212300, dtype: int64\n"
     ]
    }
   ],
   "source": [
    "print(puhas_copy['unlocked'])"
   ]
  },
  {
   "cell_type": "code",
   "execution_count": 95,
   "metadata": {},
   "outputs": [
    {
     "data": {
      "text/plain": [
       "0.06298436850080177"
      ]
     },
     "execution_count": 95,
     "metadata": {},
     "output_type": "execute_result"
    }
   ],
   "source": [
    "#puhas_copy.dtypes\n",
    "\n",
    "puhas_copy['unlocked'].corr(puhas_copy['length'])"
   ]
  },
  {
   "cell_type": "code",
   "execution_count": null,
   "metadata": {},
   "outputs": [],
   "source": []
  },
  {
   "cell_type": "code",
   "execution_count": null,
   "metadata": {},
   "outputs": [],
   "source": []
  },
  {
   "cell_type": "code",
   "execution_count": null,
   "metadata": {},
   "outputs": [],
   "source": []
  },
  {
   "cell_type": "code",
   "execution_count": null,
   "metadata": {},
   "outputs": [],
   "source": []
  },
  {
   "cell_type": "code",
   "execution_count": 25,
   "metadata": {},
   "outputs": [
    {
     "data": {
      "text/plain": [
       "<pandas.core.groupby.generic.DataFrameGroupBy object at 0x000001FFFA45EA60>"
      ]
     },
     "execution_count": 25,
     "metadata": {},
     "output_type": "execute_result"
    }
   ],
   "source": [
    "import datetime\n",
    "import random\n",
    "\n",
    "#df.groupby([pd.Grouper(key='unlocked', freq='60min'), 'length'])\n",
    "\n",
    "\n",
    "#x = data1['unlockeddattime']\n",
    "#y = data1['length']\n",
    "# plot\n",
    "#plt.plot(x,y)\n",
    "# beautify the x-labels\n",
    "#plt.gcf().autofmt_xdate()\n",
    "\n",
    "#plt.show()"
   ]
  },
  {
   "cell_type": "code",
   "execution_count": 11,
   "metadata": {},
   "outputs": [],
   "source": [
    "for i, startstationname in enumerate(puhas.startstationname):\n",
    "    x = puhas['startstationname'][i]\n",
    "    y = puhas['endstationname'][i]\n",
    "    z = puhas['length'][i]\n",
    "    \n",
    "    if x == '-- Määramata --':\n",
    "        puhas.at[i, 'startstationname'] = 'Undetermined'\n",
    "        x = puhas['startstationname'][i]\n",
    "    if y == '-- Määramata --':\n",
    "        puhas.at[i, 'endstationname'] = 'Undetermined'\n",
    "        y = puhas['endstationname'][i]\n",
    "    if x == 'Undetermined':\n",
    "        if y != 'Undetermined':\n",
    "            if z < 0.1:\n",
    "                puhas.at[i, 'startstationname'] = y  #1-2min"
   ]
  },
  {
   "cell_type": "code",
   "execution_count": 12,
   "metadata": {},
   "outputs": [
    {
     "name": "stderr",
     "output_type": "stream",
     "text": [
      "<ipython-input-12-982bb9957b1e>:2: SettingWithCopyWarning: \n",
      "A value is trying to be set on a copy of a slice from a DataFrame.\n",
      "Try using .loc[row_indexer,col_indexer] = value instead\n",
      "\n",
      "See the caveats in the documentation: https://pandas.pydata.org/pandas-docs/stable/user_guide/indexing.html#returning-a-view-versus-a-copy\n",
      "  vol1['minek'] = 1 #kui 1 siis unlocked\n",
      "<ipython-input-12-982bb9957b1e>:4: SettingWithCopyWarning: \n",
      "A value is trying to be set on a copy of a slice from a DataFrame.\n",
      "Try using .loc[row_indexer,col_indexer] = value instead\n",
      "\n",
      "See the caveats in the documentation: https://pandas.pydata.org/pandas-docs/stable/user_guide/indexing.html#returning-a-view-versus-a-copy\n",
      "  vol2['minek'] = 0\n",
      "C:\\Users\\Elina Meier\\AppData\\Local\\Packages\\PythonSoftwareFoundation.Python.3.8_qbz5n2kfra8p0\\LocalCache\\local-packages\\Python38\\site-packages\\pandas\\core\\frame.py:4295: SettingWithCopyWarning: \n",
      "A value is trying to be set on a copy of a slice from a DataFrame\n",
      "\n",
      "See the caveats in the documentation: https://pandas.pydata.org/pandas-docs/stable/user_guide/indexing.html#returning-a-view-versus-a-copy\n",
      "  return super().rename(\n"
     ]
    },
    {
     "data": {
      "text/html": [
       "<div>\n",
       "<style scoped>\n",
       "    .dataframe tbody tr th:only-of-type {\n",
       "        vertical-align: middle;\n",
       "    }\n",
       "\n",
       "    .dataframe tbody tr th {\n",
       "        vertical-align: top;\n",
       "    }\n",
       "\n",
       "    .dataframe thead th {\n",
       "        text-align: right;\n",
       "    }\n",
       "</style>\n",
       "<table border=\"1\" class=\"dataframe\">\n",
       "  <thead>\n",
       "    <tr style=\"text-align: right;\">\n",
       "      <th></th>\n",
       "      <th>station</th>\n",
       "      <th>time</th>\n",
       "      <th>minek</th>\n",
       "    </tr>\n",
       "  </thead>\n",
       "  <tbody>\n",
       "    <tr>\n",
       "      <th>0</th>\n",
       "      <td>Warehouse</td>\n",
       "      <td>2019-06-01 09:37:57</td>\n",
       "      <td>1</td>\n",
       "    </tr>\n",
       "    <tr>\n",
       "      <th>1</th>\n",
       "      <td>Warehouse</td>\n",
       "      <td>2019-06-01 09:39:42</td>\n",
       "      <td>1</td>\n",
       "    </tr>\n",
       "    <tr>\n",
       "      <th>2</th>\n",
       "      <td>Warehouse</td>\n",
       "      <td>2019-06-01 09:41:28</td>\n",
       "      <td>1</td>\n",
       "    </tr>\n",
       "    <tr>\n",
       "      <th>3</th>\n",
       "      <td>Warehouse</td>\n",
       "      <td>2019-06-01 09:48:09</td>\n",
       "      <td>1</td>\n",
       "    </tr>\n",
       "    <tr>\n",
       "      <th>4</th>\n",
       "      <td>Warehouse</td>\n",
       "      <td>2019-06-01 10:02:54</td>\n",
       "      <td>1</td>\n",
       "    </tr>\n",
       "    <tr>\n",
       "      <th>...</th>\n",
       "      <td>...</td>\n",
       "      <td>...</td>\n",
       "      <td>...</td>\n",
       "    </tr>\n",
       "    <tr>\n",
       "      <th>424595</th>\n",
       "      <td>Töökoda</td>\n",
       "      <td>2019-06-25 16:20:00</td>\n",
       "      <td>0</td>\n",
       "    </tr>\n",
       "    <tr>\n",
       "      <th>424596</th>\n",
       "      <td>Warehouse</td>\n",
       "      <td>2019-06-26 09:21:00</td>\n",
       "      <td>0</td>\n",
       "    </tr>\n",
       "    <tr>\n",
       "      <th>424597</th>\n",
       "      <td>Warehouse</td>\n",
       "      <td>2019-06-26 10:11:00</td>\n",
       "      <td>0</td>\n",
       "    </tr>\n",
       "    <tr>\n",
       "      <th>424598</th>\n",
       "      <td>Töökoda</td>\n",
       "      <td>2019-06-27 09:30:18</td>\n",
       "      <td>0</td>\n",
       "    </tr>\n",
       "    <tr>\n",
       "      <th>424599</th>\n",
       "      <td>Töökoda</td>\n",
       "      <td>2019-06-29 17:06:46</td>\n",
       "      <td>0</td>\n",
       "    </tr>\n",
       "  </tbody>\n",
       "</table>\n",
       "<p>424600 rows × 3 columns</p>\n",
       "</div>"
      ],
      "text/plain": [
       "          station                time  minek\n",
       "0       Warehouse 2019-06-01 09:37:57      1\n",
       "1       Warehouse 2019-06-01 09:39:42      1\n",
       "2       Warehouse 2019-06-01 09:41:28      1\n",
       "3       Warehouse 2019-06-01 09:48:09      1\n",
       "4       Warehouse 2019-06-01 10:02:54      1\n",
       "...           ...                 ...    ...\n",
       "424595    Töökoda 2019-06-25 16:20:00      0\n",
       "424596  Warehouse 2019-06-26 09:21:00      0\n",
       "424597  Warehouse 2019-06-26 10:11:00      0\n",
       "424598    Töökoda 2019-06-27 09:30:18      0\n",
       "424599    Töökoda 2019-06-29 17:06:46      0\n",
       "\n",
       "[424600 rows x 3 columns]"
      ]
     },
     "execution_count": 12,
     "metadata": {},
     "output_type": "execute_result"
    }
   ],
   "source": [
    "vol1 = puhas[['startstationname', 'unlocked']]\n",
    "vol1['minek'] = 1 #kui 1 siis unlocked\n",
    "vol2 = puhas[['endstationname', 'locked']]\n",
    "vol2['minek'] = 0 \n",
    "vol1.rename(columns={'startstationname':'station', 'unlocked':'time'}, inplace=True)\n",
    "vol2.rename(columns={'endstationname':'station', 'locked':'time'}, inplace=True)\n",
    "result = pd.concat([vol1, vol2])\n",
    "sorteeritud = result.sort_values('time')\n",
    "sorteeritud = sorteeritud.reset_index(drop=True)\n",
    "sorteeritud"
   ]
  },
  {
   "cell_type": "code",
   "execution_count": 13,
   "metadata": {},
   "outputs": [],
   "source": [
    "l = np.unique(puhas[['startstationname', 'endstationname']].values)"
   ]
  },
  {
   "cell_type": "code",
   "execution_count": 14,
   "metadata": {},
   "outputs": [
    {
     "data": {
      "text/html": [
       "<div>\n",
       "<style scoped>\n",
       "    .dataframe tbody tr th:only-of-type {\n",
       "        vertical-align: middle;\n",
       "    }\n",
       "\n",
       "    .dataframe tbody tr th {\n",
       "        vertical-align: top;\n",
       "    }\n",
       "\n",
       "    .dataframe thead th {\n",
       "        text-align: right;\n",
       "    }\n",
       "</style>\n",
       "<table border=\"1\" class=\"dataframe\">\n",
       "  <thead>\n",
       "    <tr style=\"text-align: right;\">\n",
       "      <th></th>\n",
       "      <th>station</th>\n",
       "      <th>time</th>\n",
       "      <th>minek</th>\n",
       "    </tr>\n",
       "  </thead>\n",
       "  <tbody>\n",
       "    <tr>\n",
       "      <th>0</th>\n",
       "      <td>Warehouse</td>\n",
       "      <td>2019-06-01 09:37:57</td>\n",
       "      <td>1</td>\n",
       "    </tr>\n",
       "    <tr>\n",
       "      <th>1</th>\n",
       "      <td>Warehouse</td>\n",
       "      <td>2019-06-01 09:39:42</td>\n",
       "      <td>1</td>\n",
       "    </tr>\n",
       "    <tr>\n",
       "      <th>2</th>\n",
       "      <td>Warehouse</td>\n",
       "      <td>2019-06-01 09:41:28</td>\n",
       "      <td>1</td>\n",
       "    </tr>\n",
       "    <tr>\n",
       "      <th>3</th>\n",
       "      <td>Warehouse</td>\n",
       "      <td>2019-06-01 09:48:09</td>\n",
       "      <td>1</td>\n",
       "    </tr>\n",
       "    <tr>\n",
       "      <th>4</th>\n",
       "      <td>Warehouse</td>\n",
       "      <td>2019-06-01 10:02:54</td>\n",
       "      <td>1</td>\n",
       "    </tr>\n",
       "    <tr>\n",
       "      <th>...</th>\n",
       "      <td>...</td>\n",
       "      <td>...</td>\n",
       "      <td>...</td>\n",
       "    </tr>\n",
       "    <tr>\n",
       "      <th>424568</th>\n",
       "      <td>Mõisavahe</td>\n",
       "      <td>2019-06-23 22:34:17</td>\n",
       "      <td>0</td>\n",
       "    </tr>\n",
       "    <tr>\n",
       "      <th>424569</th>\n",
       "      <td>Postimaja</td>\n",
       "      <td>2019-06-23 22:45:57</td>\n",
       "      <td>0</td>\n",
       "    </tr>\n",
       "    <tr>\n",
       "      <th>424570</th>\n",
       "      <td>Raatuse</td>\n",
       "      <td>2019-06-23 23:15:02</td>\n",
       "      <td>0</td>\n",
       "    </tr>\n",
       "    <tr>\n",
       "      <th>424571</th>\n",
       "      <td>Raatuse</td>\n",
       "      <td>2019-06-23 23:15:06</td>\n",
       "      <td>0</td>\n",
       "    </tr>\n",
       "    <tr>\n",
       "      <th>424572</th>\n",
       "      <td>Veeriku</td>\n",
       "      <td>2019-06-23 23:31:07</td>\n",
       "      <td>0</td>\n",
       "    </tr>\n",
       "  </tbody>\n",
       "</table>\n",
       "<p>424573 rows × 3 columns</p>\n",
       "</div>"
      ],
      "text/plain": [
       "          station                time  minek\n",
       "0       Warehouse 2019-06-01 09:37:57      1\n",
       "1       Warehouse 2019-06-01 09:39:42      1\n",
       "2       Warehouse 2019-06-01 09:41:28      1\n",
       "3       Warehouse 2019-06-01 09:48:09      1\n",
       "4       Warehouse 2019-06-01 10:02:54      1\n",
       "...           ...                 ...    ...\n",
       "424568  Mõisavahe 2019-06-23 22:34:17      0\n",
       "424569  Postimaja 2019-06-23 22:45:57      0\n",
       "424570    Raatuse 2019-06-23 23:15:02      0\n",
       "424571    Raatuse 2019-06-23 23:15:06      0\n",
       "424572    Veeriku 2019-06-23 23:31:07      0\n",
       "\n",
       "[424573 rows x 3 columns]"
      ]
     },
     "execution_count": 14,
     "metadata": {},
     "output_type": "execute_result"
    }
   ],
   "source": [
    "t = sorteeritud.loc[(sorteeritud['time'] >= '2019 01 06') & (sorteeritud['time'] <= '2019 06 24')]\n",
    "t = t.reset_index(drop=True)\n",
    "t"
   ]
  },
  {
   "cell_type": "code",
   "execution_count": null,
   "metadata": {},
   "outputs": [],
   "source": []
  },
  {
   "cell_type": "code",
   "execution_count": null,
   "metadata": {},
   "outputs": [],
   "source": []
  }
 ],
 "metadata": {
  "kernelspec": {
   "display_name": "Python 3",
   "language": "python",
   "name": "python3"
  },
  "language_info": {
   "codemirror_mode": {
    "name": "ipython",
    "version": 3
   },
   "file_extension": ".py",
   "mimetype": "text/x-python",
   "name": "python",
   "nbconvert_exporter": "python",
   "pygments_lexer": "ipython3",
   "version": "3.8.6"
  }
 },
 "nbformat": 4,
 "nbformat_minor": 4
}
