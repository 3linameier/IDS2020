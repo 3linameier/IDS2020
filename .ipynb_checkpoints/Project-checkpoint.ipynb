{
 "cells": [
  {
   "cell_type": "markdown",
   "metadata": {},
   "source": [
    "# DATA PREPARATION"
   ]
  },
  {
   "cell_type": "code",
   "execution_count": 1,
   "metadata": {},
   "outputs": [],
   "source": [
    "import matplotlib.pyplot as plt \n",
    "import numpy as np\n",
    "import pandas as pd"
   ]
  },
  {
   "cell_type": "code",
   "execution_count": 2,
   "metadata": {},
   "outputs": [],
   "source": [
    "data1 = pd.read_csv(\"Rattaringlus2019.06--2019.12.csv\")\n",
    "data2 = pd.read_csv(\"Rattaringlus2019.12--2020.07.csv\")\n",
    "data = pd.concat([data1, data2])\n",
    "data = data.reset_index(drop=True)"
   ]
  },
  {
   "cell_type": "code",
   "execution_count": 3,
   "metadata": {},
   "outputs": [],
   "source": [
    "data['lockedattime'] = data['lockedattime'].astype(str).str[:8]                        \n",
    "data['unlockedattime'] = data['unlockedattime'].astype(str).str[:8]\n",
    "data['unlocked'] = pd.to_datetime(data['unlockedattime'] + ' ' + data['unlockedat'], format='%H:%M:%S %Y-%m-%d')\n",
    "data['locked'] = pd.to_datetime(data['lockedattime'] + ' ' + data['lockedat'], format='%H:%M:%S %Y-%m-%d')\n",
    "puhas = data.drop(columns=['unlockedat', 'unlockedattime', 'lockedat', 'lockedattime'])"
   ]
  },
  {
   "cell_type": "code",
   "execution_count": 4,
   "metadata": {},
   "outputs": [],
   "source": [
    "for i, startstationname in enumerate(puhas.startstationname):\n",
    "    x = puhas['startstationname'][i]\n",
    "    y = puhas['endstationname'][i]\n",
    "    z = puhas['length'][i]\n",
    "    \n",
    "    if x == '-- Määramata --':\n",
    "        puhas.at[i, 'startstationname'] = 'Undetermined'\n",
    "        x = puhas['startstationname'][i]\n",
    "    if y == '-- Määramata --':\n",
    "        puhas.at[i, 'endstationname'] = 'Undetermined'\n",
    "        y = puhas['endstationname'][i]\n",
    "    if x == 'Undetermined':\n",
    "        if y != 'Undetermined':\n",
    "            if z < 0.1:\n",
    "                puhas.at[i, 'startstationname'] = y\n",
    "    if y == 'Undetermined':\n",
    "        if x != 'Undetermined':\n",
    "            if z < 0.1:\n",
    "                puhas.at[i, 'endstationname'] = x"
   ]
  },
  {
   "cell_type": "code",
   "execution_count": 5,
   "metadata": {
    "scrolled": true
   },
   "outputs": [
    {
     "name": "stderr",
     "output_type": "stream",
     "text": [
      "<ipython-input-5-fa4b949bc72f>:2: SettingWithCopyWarning: \n",
      "A value is trying to be set on a copy of a slice from a DataFrame.\n",
      "Try using .loc[row_indexer,col_indexer] = value instead\n",
      "\n",
      "See the caveats in the documentation: https://pandas.pydata.org/pandas-docs/stable/user_guide/indexing.html#returning-a-view-versus-a-copy\n",
      "  vol1['minek'] = 1 #kui 1 siis unlocked\n",
      "<ipython-input-5-fa4b949bc72f>:4: SettingWithCopyWarning: \n",
      "A value is trying to be set on a copy of a slice from a DataFrame.\n",
      "Try using .loc[row_indexer,col_indexer] = value instead\n",
      "\n",
      "See the caveats in the documentation: https://pandas.pydata.org/pandas-docs/stable/user_guide/indexing.html#returning-a-view-versus-a-copy\n",
      "  vol2['minek'] = 0 #kui 0, siis locked\n",
      "C:\\Users\\Elina Meier\\AppData\\Local\\Packages\\PythonSoftwareFoundation.Python.3.8_qbz5n2kfra8p0\\LocalCache\\local-packages\\Python38\\site-packages\\pandas\\core\\frame.py:4295: SettingWithCopyWarning: \n",
      "A value is trying to be set on a copy of a slice from a DataFrame\n",
      "\n",
      "See the caveats in the documentation: https://pandas.pydata.org/pandas-docs/stable/user_guide/indexing.html#returning-a-view-versus-a-copy\n",
      "  return super().rename(\n"
     ]
    }
   ],
   "source": [
    "vol1 = puhas[['startstationname', 'unlocked']]\n",
    "vol1['minek'] = 1 #kui 1 siis unlocked\n",
    "vol2 = puhas[['endstationname', 'locked']]\n",
    "vol2['minek'] = 0 #kui 0, siis locked\n",
    "vol1.rename(columns={'startstationname':'station', 'unlocked':'time'}, inplace=True)\n",
    "vol2.rename(columns={'endstationname':'station', 'locked':'time'}, inplace=True)\n",
    "result = pd.concat([vol1, vol2])\n",
    "sorteeritud = result.sort_values('time')\n",
    "sorteeritud.reset_index(drop=True)\n",
    "sorteeritud = sorteeritud.loc[(sorteeritud['time'] >= '2019 06 09')]"
   ]
  },
  {
   "cell_type": "markdown",
   "metadata": {},
   "source": [
    "# FACTS"
   ]
  },
  {
   "cell_type": "code",
   "execution_count": 6,
   "metadata": {},
   "outputs": [
    {
     "data": {
      "text/html": [
       "<div>\n",
       "<style scoped>\n",
       "    .dataframe tbody tr th:only-of-type {\n",
       "        vertical-align: middle;\n",
       "    }\n",
       "\n",
       "    .dataframe tbody tr th {\n",
       "        vertical-align: top;\n",
       "    }\n",
       "\n",
       "    .dataframe thead th {\n",
       "        text-align: right;\n",
       "    }\n",
       "</style>\n",
       "<table border=\"1\" class=\"dataframe\">\n",
       "  <thead>\n",
       "    <tr style=\"text-align: right;\">\n",
       "      <th></th>\n",
       "      <th>length</th>\n",
       "      <th>startstationname</th>\n",
       "      <th>endstationname</th>\n",
       "      <th>unlocked</th>\n",
       "      <th>locked</th>\n",
       "    </tr>\n",
       "  </thead>\n",
       "  <tbody>\n",
       "    <tr>\n",
       "      <th>16278</th>\n",
       "      <td>10.86</td>\n",
       "      <td>Sõbra</td>\n",
       "      <td>Sõbra</td>\n",
       "      <td>2019-06-09 00:00:00</td>\n",
       "      <td>2019-06-09 00:57:40</td>\n",
       "    </tr>\n",
       "    <tr>\n",
       "      <th>16280</th>\n",
       "      <td>1.24</td>\n",
       "      <td>Kalda tee</td>\n",
       "      <td>Põhja puiestee</td>\n",
       "      <td>2019-06-09 00:00:01</td>\n",
       "      <td>2019-06-09 00:08:56</td>\n",
       "    </tr>\n",
       "    <tr>\n",
       "      <th>16281</th>\n",
       "      <td>5.70</td>\n",
       "      <td>Raatuse</td>\n",
       "      <td>Ülejõe park</td>\n",
       "      <td>2019-06-09 00:00:05</td>\n",
       "      <td>2019-06-09 00:24:42</td>\n",
       "    </tr>\n",
       "    <tr>\n",
       "      <th>16282</th>\n",
       "      <td>0.45</td>\n",
       "      <td>Ülejõe park</td>\n",
       "      <td>Pirogovi plats</td>\n",
       "      <td>2019-06-09 00:00:10</td>\n",
       "      <td>2019-06-09 00:08:32</td>\n",
       "    </tr>\n",
       "    <tr>\n",
       "      <th>16283</th>\n",
       "      <td>4.53</td>\n",
       "      <td>Kaunase puiestee</td>\n",
       "      <td>Pargi</td>\n",
       "      <td>2019-06-09 00:00:11</td>\n",
       "      <td>2019-06-09 00:20:54</td>\n",
       "    </tr>\n",
       "    <tr>\n",
       "      <th>...</th>\n",
       "      <td>...</td>\n",
       "      <td>...</td>\n",
       "      <td>...</td>\n",
       "      <td>...</td>\n",
       "      <td>...</td>\n",
       "    </tr>\n",
       "    <tr>\n",
       "      <th>1424485</th>\n",
       "      <td>4.94</td>\n",
       "      <td>Raja</td>\n",
       "      <td>Anne saun</td>\n",
       "      <td>2020-07-31 00:51:56</td>\n",
       "      <td>2020-07-31 01:06:27</td>\n",
       "    </tr>\n",
       "    <tr>\n",
       "      <th>1424487</th>\n",
       "      <td>3.95</td>\n",
       "      <td>Rüütli</td>\n",
       "      <td>Tamme gümnaasium</td>\n",
       "      <td>2020-07-31 00:54:24</td>\n",
       "      <td>2020-07-31 01:30:29</td>\n",
       "    </tr>\n",
       "    <tr>\n",
       "      <th>1424488</th>\n",
       "      <td>4.34</td>\n",
       "      <td>Rüütli</td>\n",
       "      <td>Tamme gümnaasium</td>\n",
       "      <td>2020-07-31 00:55:06</td>\n",
       "      <td>2020-07-31 01:30:43</td>\n",
       "    </tr>\n",
       "    <tr>\n",
       "      <th>1424489</th>\n",
       "      <td>5.50</td>\n",
       "      <td>Pirogovi plats</td>\n",
       "      <td>Ränilinn</td>\n",
       "      <td>2020-07-31 00:55:32</td>\n",
       "      <td>2020-07-31 01:29:51</td>\n",
       "    </tr>\n",
       "    <tr>\n",
       "      <th>1424496</th>\n",
       "      <td>4.21</td>\n",
       "      <td>Anne saun</td>\n",
       "      <td>Vahi</td>\n",
       "      <td>2020-07-31 00:58:31</td>\n",
       "      <td>2020-07-31 01:17:24</td>\n",
       "    </tr>\n",
       "  </tbody>\n",
       "</table>\n",
       "<p>1076203 rows × 5 columns</p>\n",
       "</div>"
      ],
      "text/plain": [
       "         length  startstationname    endstationname            unlocked  \\\n",
       "16278     10.86             Sõbra             Sõbra 2019-06-09 00:00:00   \n",
       "16280      1.24         Kalda tee    Põhja puiestee 2019-06-09 00:00:01   \n",
       "16281      5.70           Raatuse       Ülejõe park 2019-06-09 00:00:05   \n",
       "16282      0.45       Ülejõe park    Pirogovi plats 2019-06-09 00:00:10   \n",
       "16283      4.53  Kaunase puiestee             Pargi 2019-06-09 00:00:11   \n",
       "...         ...               ...               ...                 ...   \n",
       "1424485    4.94              Raja         Anne saun 2020-07-31 00:51:56   \n",
       "1424487    3.95            Rüütli  Tamme gümnaasium 2020-07-31 00:54:24   \n",
       "1424488    4.34            Rüütli  Tamme gümnaasium 2020-07-31 00:55:06   \n",
       "1424489    5.50    Pirogovi plats          Ränilinn 2020-07-31 00:55:32   \n",
       "1424496    4.21         Anne saun              Vahi 2020-07-31 00:58:31   \n",
       "\n",
       "                     locked  \n",
       "16278   2019-06-09 00:57:40  \n",
       "16280   2019-06-09 00:08:56  \n",
       "16281   2019-06-09 00:24:42  \n",
       "16282   2019-06-09 00:08:32  \n",
       "16283   2019-06-09 00:20:54  \n",
       "...                     ...  \n",
       "1424485 2020-07-31 01:06:27  \n",
       "1424487 2020-07-31 01:30:29  \n",
       "1424488 2020-07-31 01:30:43  \n",
       "1424489 2020-07-31 01:29:51  \n",
       "1424496 2020-07-31 01:17:24  \n",
       "\n",
       "[1076203 rows x 5 columns]"
      ]
     },
     "execution_count": 6,
     "metadata": {},
     "output_type": "execute_result"
    }
   ],
   "source": [
    "paevasSoite = puhas.loc[(puhas['unlocked'] >= '2019 06 09')]\n",
    "paevasSoite = paevasSoite.loc[(puhas['length'] >= 0.2)]\n",
    "paevasSoite"
   ]
  },
  {
   "cell_type": "code",
   "execution_count": 7,
   "metadata": {
    "scrolled": true
   },
   "outputs": [
    {
     "data": {
      "text/html": [
       "<div>\n",
       "<style scoped>\n",
       "    .dataframe tbody tr th:only-of-type {\n",
       "        vertical-align: middle;\n",
       "    }\n",
       "\n",
       "    .dataframe tbody tr th {\n",
       "        vertical-align: top;\n",
       "    }\n",
       "\n",
       "    .dataframe thead th {\n",
       "        text-align: right;\n",
       "    }\n",
       "</style>\n",
       "<table border=\"1\" class=\"dataframe\">\n",
       "  <thead>\n",
       "    <tr style=\"text-align: right;\">\n",
       "      <th></th>\n",
       "      <th>date</th>\n",
       "      <th>count</th>\n",
       "    </tr>\n",
       "  </thead>\n",
       "  <tbody>\n",
       "    <tr>\n",
       "      <th>414</th>\n",
       "      <td>2020-03-01</td>\n",
       "      <td>233</td>\n",
       "    </tr>\n",
       "    <tr>\n",
       "      <th>415</th>\n",
       "      <td>2020-04-03</td>\n",
       "      <td>218</td>\n",
       "    </tr>\n",
       "    <tr>\n",
       "      <th>416</th>\n",
       "      <td>2020-02-29</td>\n",
       "      <td>191</td>\n",
       "    </tr>\n",
       "    <tr>\n",
       "      <th>417</th>\n",
       "      <td>2020-04-12</td>\n",
       "      <td>169</td>\n",
       "    </tr>\n",
       "    <tr>\n",
       "      <th>418</th>\n",
       "      <td>2020-07-31</td>\n",
       "      <td>71</td>\n",
       "    </tr>\n",
       "  </tbody>\n",
       "</table>\n",
       "</div>"
      ],
      "text/plain": [
       "          date  count\n",
       "414 2020-03-01    233\n",
       "415 2020-04-03    218\n",
       "416 2020-02-29    191\n",
       "417 2020-04-12    169\n",
       "418 2020-07-31     71"
      ]
     },
     "execution_count": 7,
     "metadata": {},
     "output_type": "execute_result"
    }
   ],
   "source": [
    "paevasSoiteMaxMin = (pd.to_datetime(paevasSoite['unlocked'])\n",
    "       .dt.floor('d')\n",
    "       .value_counts()\n",
    "       .rename_axis('date')\n",
    "       .reset_index(name='count'))\n",
    "paevasSoiteMaxMin.tail()   #kuna 31.juuli 2020 kohta olid ainult öised andmed ja hommikusi peale 5.00 avamist ei olnud, siis seda ei arvesta"
   ]
  },
  {
   "cell_type": "code",
   "execution_count": 8,
   "metadata": {
    "scrolled": false
   },
   "outputs": [
    {
     "data": {
      "text/html": [
       "<div>\n",
       "<style scoped>\n",
       "    .dataframe tbody tr th:only-of-type {\n",
       "        vertical-align: middle;\n",
       "    }\n",
       "\n",
       "    .dataframe tbody tr th {\n",
       "        vertical-align: top;\n",
       "    }\n",
       "\n",
       "    .dataframe thead th {\n",
       "        text-align: right;\n",
       "    }\n",
       "</style>\n",
       "<table border=\"1\" class=\"dataframe\">\n",
       "  <thead>\n",
       "    <tr style=\"text-align: right;\">\n",
       "      <th></th>\n",
       "      <th>date</th>\n",
       "      <th>count</th>\n",
       "    </tr>\n",
       "  </thead>\n",
       "  <tbody>\n",
       "    <tr>\n",
       "      <th>0</th>\n",
       "      <td>2019-06-10</td>\n",
       "      <td>15465</td>\n",
       "    </tr>\n",
       "    <tr>\n",
       "      <th>1</th>\n",
       "      <td>2019-06-09</td>\n",
       "      <td>13991</td>\n",
       "    </tr>\n",
       "    <tr>\n",
       "      <th>2</th>\n",
       "      <td>2019-06-12</td>\n",
       "      <td>12935</td>\n",
       "    </tr>\n",
       "    <tr>\n",
       "      <th>3</th>\n",
       "      <td>2019-06-11</td>\n",
       "      <td>10345</td>\n",
       "    </tr>\n",
       "    <tr>\n",
       "      <th>4</th>\n",
       "      <td>2019-06-14</td>\n",
       "      <td>9860</td>\n",
       "    </tr>\n",
       "  </tbody>\n",
       "</table>\n",
       "</div>"
      ],
      "text/plain": [
       "        date  count\n",
       "0 2019-06-10  15465\n",
       "1 2019-06-09  13991\n",
       "2 2019-06-12  12935\n",
       "3 2019-06-11  10345\n",
       "4 2019-06-14   9860"
      ]
     },
     "execution_count": 8,
     "metadata": {},
     "output_type": "execute_result"
    }
   ],
   "source": [
    "paevasSoiteMaxMin.head()"
   ]
  },
  {
   "cell_type": "code",
   "execution_count": 9,
   "metadata": {},
   "outputs": [
    {
     "name": "stderr",
     "output_type": "stream",
     "text": [
      "<ipython-input-9-abfdfcdd0f18>:2: FutureWarning: DataFrame.mean and DataFrame.median with numeric_only=None will include datetime64 and datetime64tz columns in a future version.\n",
      "  suvi.mean()\n"
     ]
    },
    {
     "data": {
      "text/plain": [
       "count    5207.082353\n",
       "dtype: float64"
      ]
     },
     "execution_count": 9,
     "metadata": {},
     "output_type": "execute_result"
    }
   ],
   "source": [
    "suvi = paevasSoiteMaxMin.loc[(paevasSoiteMaxMin['date'] >= '2019 06 01') & (paevasSoiteMaxMin['date'] <= '2019 09 01')]\n",
    "suvi.mean()"
   ]
  },
  {
   "cell_type": "code",
   "execution_count": 10,
   "metadata": {},
   "outputs": [
    {
     "name": "stderr",
     "output_type": "stream",
     "text": [
      "<ipython-input-10-ab4654370337>:2: FutureWarning: DataFrame.mean and DataFrame.median with numeric_only=None will include datetime64 and datetime64tz columns in a future version.\n",
      "  talv.mean()\n"
     ]
    },
    {
     "data": {
      "text/plain": [
       "count    559.945652\n",
       "dtype: float64"
      ]
     },
     "execution_count": 10,
     "metadata": {},
     "output_type": "execute_result"
    }
   ],
   "source": [
    "talv = paevasSoiteMaxMin.loc[(paevasSoiteMaxMin['date'] >= '2019 12 01') & (paevasSoiteMaxMin['date'] <= '2020 03 01')]\n",
    "talv.mean()"
   ]
  },
  {
   "cell_type": "code",
   "execution_count": 11,
   "metadata": {},
   "outputs": [
    {
     "data": {
      "text/plain": [
       "EMÜ spordihoone     5335\n",
       "Kvissentali         3812\n",
       "Töökoda             1310\n",
       "Ujula                250\n",
       "Metallica parkla     143\n",
       "Warehouse            130\n",
       "Rahinge               41\n",
       "SPARK Demo            25\n",
       "Tour d'ÖÖ             12\n",
       "Lauluväljak            2\n",
       "Name: startstationname, dtype: int64"
      ]
     },
     "execution_count": 11,
     "metadata": {},
     "output_type": "execute_result"
    }
   ],
   "source": [
    "popidStationid = paevasSoite['startstationname'].value_counts()\n",
    "popidStationid.tail(10)  #eriüritusi, töökoda ja warehouse ei arvesta, samuti Ujula ja Rahinge, kuna need on 2020 suvel lisatud uued peatused"
   ]
  },
  {
   "cell_type": "code",
   "execution_count": 12,
   "metadata": {},
   "outputs": [
    {
     "data": {
      "text/html": [
       "<div>\n",
       "<style scoped>\n",
       "    .dataframe tbody tr th:only-of-type {\n",
       "        vertical-align: middle;\n",
       "    }\n",
       "\n",
       "    .dataframe tbody tr th {\n",
       "        vertical-align: top;\n",
       "    }\n",
       "\n",
       "    .dataframe thead th {\n",
       "        text-align: right;\n",
       "    }\n",
       "</style>\n",
       "<table border=\"1\" class=\"dataframe\">\n",
       "  <thead>\n",
       "    <tr style=\"text-align: right;\">\n",
       "      <th></th>\n",
       "      <th></th>\n",
       "      <th>unlocked</th>\n",
       "    </tr>\n",
       "    <tr>\n",
       "      <th>unlocked</th>\n",
       "      <th>unlocked</th>\n",
       "      <th></th>\n",
       "    </tr>\n",
       "  </thead>\n",
       "  <tbody>\n",
       "    <tr>\n",
       "      <th rowspan=\"7\" valign=\"top\">2019</th>\n",
       "      <th>6</th>\n",
       "      <td>164743</td>\n",
       "    </tr>\n",
       "    <tr>\n",
       "      <th>7</th>\n",
       "      <td>131272</td>\n",
       "    </tr>\n",
       "    <tr>\n",
       "      <th>8</th>\n",
       "      <td>141834</td>\n",
       "    </tr>\n",
       "    <tr>\n",
       "      <th>9</th>\n",
       "      <td>107377</td>\n",
       "    </tr>\n",
       "    <tr>\n",
       "      <th>10</th>\n",
       "      <td>75639</td>\n",
       "    </tr>\n",
       "    <tr>\n",
       "      <th>11</th>\n",
       "      <td>44541</td>\n",
       "    </tr>\n",
       "    <tr>\n",
       "      <th>12</th>\n",
       "      <td>20615</td>\n",
       "    </tr>\n",
       "    <tr>\n",
       "      <th rowspan=\"7\" valign=\"top\">2020</th>\n",
       "      <th>1</th>\n",
       "      <td>16980</td>\n",
       "    </tr>\n",
       "    <tr>\n",
       "      <th>2</th>\n",
       "      <td>13687</td>\n",
       "    </tr>\n",
       "    <tr>\n",
       "      <th>3</th>\n",
       "      <td>14532</td>\n",
       "    </tr>\n",
       "    <tr>\n",
       "      <th>4</th>\n",
       "      <td>14750</td>\n",
       "    </tr>\n",
       "    <tr>\n",
       "      <th>5</th>\n",
       "      <td>87955</td>\n",
       "    </tr>\n",
       "    <tr>\n",
       "      <th>6</th>\n",
       "      <td>125383</td>\n",
       "    </tr>\n",
       "    <tr>\n",
       "      <th>7</th>\n",
       "      <td>116895</td>\n",
       "    </tr>\n",
       "  </tbody>\n",
       "</table>\n",
       "</div>"
      ],
      "text/plain": [
       "                   unlocked\n",
       "unlocked unlocked          \n",
       "2019     6           164743\n",
       "         7           131272\n",
       "         8           141834\n",
       "         9           107377\n",
       "         10           75639\n",
       "         11           44541\n",
       "         12           20615\n",
       "2020     1            16980\n",
       "         2            13687\n",
       "         3            14532\n",
       "         4            14750\n",
       "         5            87955\n",
       "         6           125383\n",
       "         7           116895"
      ]
     },
     "execution_count": 12,
     "metadata": {},
     "output_type": "execute_result"
    }
   ],
   "source": [
    "kuusSoite = paevasSoite['unlocked'].groupby([paevasSoite.unlocked.dt.year, paevasSoite.unlocked.dt.month]).agg('count')\n",
    "kuusSoite = pd.DataFrame(kuusSoite)\n",
    "kuusSoite"
   ]
  },
  {
   "cell_type": "code",
   "execution_count": 13,
   "metadata": {},
   "outputs": [
    {
     "data": {
      "text/html": [
       "<div>\n",
       "<style scoped>\n",
       "    .dataframe tbody tr th:only-of-type {\n",
       "        vertical-align: middle;\n",
       "    }\n",
       "\n",
       "    .dataframe tbody tr th {\n",
       "        vertical-align: top;\n",
       "    }\n",
       "\n",
       "    .dataframe thead th {\n",
       "        text-align: right;\n",
       "    }\n",
       "</style>\n",
       "<table border=\"1\" class=\"dataframe\">\n",
       "  <thead>\n",
       "    <tr style=\"text-align: right;\">\n",
       "      <th></th>\n",
       "      <th>length</th>\n",
       "    </tr>\n",
       "  </thead>\n",
       "  <tbody>\n",
       "    <tr>\n",
       "      <th>79124</th>\n",
       "      <td>0.20</td>\n",
       "    </tr>\n",
       "    <tr>\n",
       "      <th>336805</th>\n",
       "      <td>0.20</td>\n",
       "    </tr>\n",
       "    <tr>\n",
       "      <th>1067929</th>\n",
       "      <td>0.20</td>\n",
       "    </tr>\n",
       "    <tr>\n",
       "      <th>34647</th>\n",
       "      <td>0.20</td>\n",
       "    </tr>\n",
       "    <tr>\n",
       "      <th>979183</th>\n",
       "      <td>0.20</td>\n",
       "    </tr>\n",
       "    <tr>\n",
       "      <th>...</th>\n",
       "      <td>...</td>\n",
       "    </tr>\n",
       "    <tr>\n",
       "      <th>456314</th>\n",
       "      <td>50.86</td>\n",
       "    </tr>\n",
       "    <tr>\n",
       "      <th>456283</th>\n",
       "      <td>51.04</td>\n",
       "    </tr>\n",
       "    <tr>\n",
       "      <th>1128120</th>\n",
       "      <td>59.04</td>\n",
       "    </tr>\n",
       "    <tr>\n",
       "      <th>21750</th>\n",
       "      <td>59.57</td>\n",
       "    </tr>\n",
       "    <tr>\n",
       "      <th>19014</th>\n",
       "      <td>67.48</td>\n",
       "    </tr>\n",
       "  </tbody>\n",
       "</table>\n",
       "<p>1076203 rows × 1 columns</p>\n",
       "</div>"
      ],
      "text/plain": [
       "         length\n",
       "79124      0.20\n",
       "336805     0.20\n",
       "1067929    0.20\n",
       "34647      0.20\n",
       "979183     0.20\n",
       "...         ...\n",
       "456314    50.86\n",
       "456283    51.04\n",
       "1128120   59.04\n",
       "21750     59.57\n",
       "19014     67.48\n",
       "\n",
       "[1076203 rows x 1 columns]"
      ]
     },
     "execution_count": 13,
     "metadata": {},
     "output_type": "execute_result"
    }
   ],
   "source": [
    "pikkus = pd.DataFrame(paevasSoite['length']).sort_values('length')\n",
    "pikkus"
   ]
  },
  {
   "cell_type": "markdown",
   "metadata": {},
   "source": [
    "# TRAIN"
   ]
  },
  {
   "cell_type": "code",
   "execution_count": 14,
   "metadata": {},
   "outputs": [],
   "source": [
    "periood = sorteeritud.loc[(sorteeritud['time'] >= '2019 09 01') & (sorteeritud['time'] <= '2019 10 01')] #huvipakkuv periood algus- ja lõppkuupäev sisse\n",
    "periood = periood.reset_index()\n",
    "dokid = np.unique(periood[['station']].values)\n",
    "tim = pd.Timestamp('2019-09-01') #perioodi alguskuupäev sisse\n",
    "vahemik = pd.to_timedelta(\"00:20:00\")                                      \n",
    "uus = pd.DataFrame({'start':0} ,index = dokid)\n",
    "col = pd.DataFrame({tim:0} ,index = dokid)\n",
    "\n",
    "for i, station in enumerate(periood.station):\n",
    "    station = periood['station'][i]\n",
    "    time = periood['time'][i]\n",
    "    minek = periood['minek'][i]\n",
    "    while (abs(tim - time) > vahemik):\n",
    "        uus[tim] = col\n",
    "        tim += vahemik\n",
    "        col = pd.DataFrame({tim:0} ,index = dokid)\n",
    "    else:\n",
    "        if minek == 0:\n",
    "            col[tim][station] += 1\n",
    "        else:\n",
    "            col[tim][station] -= 1\n",
    "treening = uus.drop(columns=['start'])"
   ]
  },
  {
   "cell_type": "code",
   "execution_count": 15,
   "metadata": {
    "scrolled": true
   },
   "outputs": [
    {
     "data": {
      "text/html": [
       "<div>\n",
       "<style scoped>\n",
       "    .dataframe tbody tr th:only-of-type {\n",
       "        vertical-align: middle;\n",
       "    }\n",
       "\n",
       "    .dataframe tbody tr th {\n",
       "        vertical-align: top;\n",
       "    }\n",
       "\n",
       "    .dataframe thead th {\n",
       "        text-align: right;\n",
       "    }\n",
       "</style>\n",
       "<table border=\"1\" class=\"dataframe\">\n",
       "  <thead>\n",
       "    <tr style=\"text-align: right;\">\n",
       "      <th></th>\n",
       "      <th>Lossi</th>\n",
       "      <th>time</th>\n",
       "      <th>weekday</th>\n",
       "    </tr>\n",
       "  </thead>\n",
       "  <tbody>\n",
       "    <tr>\n",
       "      <th>2019-09-01 00:00:00</th>\n",
       "      <td>0</td>\n",
       "      <td>2019-09-01 00:00:00</td>\n",
       "      <td>6</td>\n",
       "    </tr>\n",
       "    <tr>\n",
       "      <th>2019-09-01 00:20:00</th>\n",
       "      <td>-1</td>\n",
       "      <td>2019-09-01 00:20:00</td>\n",
       "      <td>6</td>\n",
       "    </tr>\n",
       "    <tr>\n",
       "      <th>2019-09-01 00:40:00</th>\n",
       "      <td>0</td>\n",
       "      <td>2019-09-01 00:40:00</td>\n",
       "      <td>6</td>\n",
       "    </tr>\n",
       "    <tr>\n",
       "      <th>2019-09-01 01:00:00</th>\n",
       "      <td>0</td>\n",
       "      <td>2019-09-01 01:00:00</td>\n",
       "      <td>6</td>\n",
       "    </tr>\n",
       "    <tr>\n",
       "      <th>2019-09-01 01:20:00</th>\n",
       "      <td>0</td>\n",
       "      <td>2019-09-01 01:20:00</td>\n",
       "      <td>6</td>\n",
       "    </tr>\n",
       "    <tr>\n",
       "      <th>...</th>\n",
       "      <td>...</td>\n",
       "      <td>...</td>\n",
       "      <td>...</td>\n",
       "    </tr>\n",
       "    <tr>\n",
       "      <th>2019-09-30 22:00:00</th>\n",
       "      <td>0</td>\n",
       "      <td>2019-09-30 22:00:00</td>\n",
       "      <td>0</td>\n",
       "    </tr>\n",
       "    <tr>\n",
       "      <th>2019-09-30 22:20:00</th>\n",
       "      <td>0</td>\n",
       "      <td>2019-09-30 22:20:00</td>\n",
       "      <td>0</td>\n",
       "    </tr>\n",
       "    <tr>\n",
       "      <th>2019-09-30 22:40:00</th>\n",
       "      <td>0</td>\n",
       "      <td>2019-09-30 22:40:00</td>\n",
       "      <td>0</td>\n",
       "    </tr>\n",
       "    <tr>\n",
       "      <th>2019-09-30 23:00:00</th>\n",
       "      <td>0</td>\n",
       "      <td>2019-09-30 23:00:00</td>\n",
       "      <td>0</td>\n",
       "    </tr>\n",
       "    <tr>\n",
       "      <th>2019-09-30 23:20:00</th>\n",
       "      <td>0</td>\n",
       "      <td>2019-09-30 23:20:00</td>\n",
       "      <td>0</td>\n",
       "    </tr>\n",
       "  </tbody>\n",
       "</table>\n",
       "<p>2159 rows × 3 columns</p>\n",
       "</div>"
      ],
      "text/plain": [
       "                     Lossi                time  weekday\n",
       "2019-09-01 00:00:00      0 2019-09-01 00:00:00        6\n",
       "2019-09-01 00:20:00     -1 2019-09-01 00:20:00        6\n",
       "2019-09-01 00:40:00      0 2019-09-01 00:40:00        6\n",
       "2019-09-01 01:00:00      0 2019-09-01 01:00:00        6\n",
       "2019-09-01 01:20:00      0 2019-09-01 01:20:00        6\n",
       "...                    ...                 ...      ...\n",
       "2019-09-30 22:00:00      0 2019-09-30 22:00:00        0\n",
       "2019-09-30 22:20:00      0 2019-09-30 22:20:00        0\n",
       "2019-09-30 22:40:00      0 2019-09-30 22:40:00        0\n",
       "2019-09-30 23:00:00      0 2019-09-30 23:00:00        0\n",
       "2019-09-30 23:20:00      0 2019-09-30 23:20:00        0\n",
       "\n",
       "[2159 rows x 3 columns]"
      ]
     },
     "execution_count": 15,
     "metadata": {},
     "output_type": "execute_result"
    }
   ],
   "source": [
    "row = treening.iloc[25] #valid huvipakkuva stationi indeksi\n",
    "rr = pd.DataFrame(row)\n",
    "rr['time'] = rr.index\n",
    "rr['weekday'] = rr['time'].dt.dayofweek\n",
    "rr"
   ]
  },
  {
   "cell_type": "code",
   "execution_count": 16,
   "metadata": {},
   "outputs": [],
   "source": [
    "dti = pd.date_range(\"05:00\", \"23:40\", freq=\"20min\").time\n",
    "w = [0, 1, 2, 3, 4, 5, 6]\n",
    "graf = pd.DataFrame({'start':0} ,index = w)\n",
    "\n",
    "for i in range(57):\n",
    "    c = dti[i]\n",
    "    b = rr.at_time(c)\n",
    "    d = b.groupby(['weekday']).mean()\n",
    "    graf[c] = d\n",
    "\n",
    "fg = pd.DataFrame(graf.iloc[0:5].mean())\n",
    "k = fg.rename(columns={0: \"meanN\"})\n",
    "\n",
    "k['time'] = k.index\n",
    "k['y'] = 0\n",
    "k.loc[k.meanN >= 0, 'y'] = 1\n",
    "q = k.drop('start', axis=0)\n",
    "q[['h','m','s']] = q['time'].astype(str).str.split(':', expand=True).astype(int)\n",
    "q\n",
    "proov = q.drop(columns=['time'])"
   ]
  },
  {
   "cell_type": "code",
   "execution_count": 17,
   "metadata": {},
   "outputs": [
    {
     "data": {
      "text/plain": [
       "<AxesSubplot:>"
      ]
     },
     "execution_count": 17,
     "metadata": {},
     "output_type": "execute_result"
    },
    {
     "data": {
      "image/png": "[encoded data removed]",
      "text/plain": [
       "<Figure size 432x288 with 1 Axes>"
      ]
     },
     "metadata": {
      "needs_background": "light"
     },
     "output_type": "display_data"
    }
   ],
   "source": [
    "graf.rename(columns={'start':'05:00:00'}, inplace=True)\n",
    "graf.iloc[0:5].mean().plot()"
   ]
  },
  {
   "cell_type": "code",
   "execution_count": 18,
   "metadata": {
    "scrolled": true
   },
   "outputs": [],
   "source": [
    "X_train = proov.drop([\"y\", \"meanN\"], axis=1)\n",
    "y_train = proov[\"y\"]"
   ]
  },
  {
   "cell_type": "markdown",
   "metadata": {},
   "source": [
    "# TEST"
   ]
  },
  {
   "cell_type": "code",
   "execution_count": 19,
   "metadata": {
    "scrolled": true
   },
   "outputs": [],
   "source": [
    "periood = sorteeritud.loc[(sorteeritud['time'] >= '2019 10 01') & (sorteeritud['time'] <= '2019 11 01')] #perioodi algus ja lõppkuu päev sisse\n",
    "periood = periood.reset_index()\n",
    "dokid = np.unique(periood[['station']].values)\n",
    "tim = pd.Timestamp('2019-10-01') #perioodi alguskuupäev sisse\n",
    "vahemik = pd.to_timedelta(\"00:20:00\")                                      \n",
    "uus = pd.DataFrame({'start':0} ,index = dokid)               \n",
    "col = pd.DataFrame({tim:0} ,index = dokid)\n",
    "\n",
    "for i, station in enumerate(periood.station):\n",
    "    station = periood['station'][i]\n",
    "    time = periood['time'][i]\n",
    "    minek = periood['minek'][i]\n",
    "    while (abs(tim - time) > vahemik):\n",
    "        uus[tim] = col\n",
    "        tim += vahemik\n",
    "        col = pd.DataFrame({tim:0} ,index = dokid)\n",
    "    else:\n",
    "        if minek == 0:\n",
    "            col[tim][station] += 1\n",
    "        else:\n",
    "            col[tim][station] -= 1\n",
    "testing = uus.drop(columns=['start'])"
   ]
  },
  {
   "cell_type": "code",
   "execution_count": 20,
   "metadata": {},
   "outputs": [
    {
     "data": {
      "text/html": [
       "<div>\n",
       "<style scoped>\n",
       "    .dataframe tbody tr th:only-of-type {\n",
       "        vertical-align: middle;\n",
       "    }\n",
       "\n",
       "    .dataframe tbody tr th {\n",
       "        vertical-align: top;\n",
       "    }\n",
       "\n",
       "    .dataframe thead th {\n",
       "        text-align: right;\n",
       "    }\n",
       "</style>\n",
       "<table border=\"1\" class=\"dataframe\">\n",
       "  <thead>\n",
       "    <tr style=\"text-align: right;\">\n",
       "      <th></th>\n",
       "      <th>Lossi</th>\n",
       "      <th>time</th>\n",
       "      <th>weekday</th>\n",
       "    </tr>\n",
       "  </thead>\n",
       "  <tbody>\n",
       "    <tr>\n",
       "      <th>2019-10-01 00:00:00</th>\n",
       "      <td>0</td>\n",
       "      <td>2019-10-01 00:00:00</td>\n",
       "      <td>1</td>\n",
       "    </tr>\n",
       "    <tr>\n",
       "      <th>2019-10-01 00:20:00</th>\n",
       "      <td>0</td>\n",
       "      <td>2019-10-01 00:20:00</td>\n",
       "      <td>1</td>\n",
       "    </tr>\n",
       "    <tr>\n",
       "      <th>2019-10-01 00:40:00</th>\n",
       "      <td>0</td>\n",
       "      <td>2019-10-01 00:40:00</td>\n",
       "      <td>1</td>\n",
       "    </tr>\n",
       "    <tr>\n",
       "      <th>2019-10-01 01:00:00</th>\n",
       "      <td>0</td>\n",
       "      <td>2019-10-01 01:00:00</td>\n",
       "      <td>1</td>\n",
       "    </tr>\n",
       "    <tr>\n",
       "      <th>2019-10-01 01:20:00</th>\n",
       "      <td>0</td>\n",
       "      <td>2019-10-01 01:20:00</td>\n",
       "      <td>1</td>\n",
       "    </tr>\n",
       "    <tr>\n",
       "      <th>...</th>\n",
       "      <td>...</td>\n",
       "      <td>...</td>\n",
       "      <td>...</td>\n",
       "    </tr>\n",
       "    <tr>\n",
       "      <th>2019-10-31 22:00:00</th>\n",
       "      <td>0</td>\n",
       "      <td>2019-10-31 22:00:00</td>\n",
       "      <td>3</td>\n",
       "    </tr>\n",
       "    <tr>\n",
       "      <th>2019-10-31 22:20:00</th>\n",
       "      <td>0</td>\n",
       "      <td>2019-10-31 22:20:00</td>\n",
       "      <td>3</td>\n",
       "    </tr>\n",
       "    <tr>\n",
       "      <th>2019-10-31 22:40:00</th>\n",
       "      <td>0</td>\n",
       "      <td>2019-10-31 22:40:00</td>\n",
       "      <td>3</td>\n",
       "    </tr>\n",
       "    <tr>\n",
       "      <th>2019-10-31 23:00:00</th>\n",
       "      <td>0</td>\n",
       "      <td>2019-10-31 23:00:00</td>\n",
       "      <td>3</td>\n",
       "    </tr>\n",
       "    <tr>\n",
       "      <th>2019-10-31 23:20:00</th>\n",
       "      <td>0</td>\n",
       "      <td>2019-10-31 23:20:00</td>\n",
       "      <td>3</td>\n",
       "    </tr>\n",
       "  </tbody>\n",
       "</table>\n",
       "<p>2231 rows × 3 columns</p>\n",
       "</div>"
      ],
      "text/plain": [
       "                     Lossi                time  weekday\n",
       "2019-10-01 00:00:00      0 2019-10-01 00:00:00        1\n",
       "2019-10-01 00:20:00      0 2019-10-01 00:20:00        1\n",
       "2019-10-01 00:40:00      0 2019-10-01 00:40:00        1\n",
       "2019-10-01 01:00:00      0 2019-10-01 01:00:00        1\n",
       "2019-10-01 01:20:00      0 2019-10-01 01:20:00        1\n",
       "...                    ...                 ...      ...\n",
       "2019-10-31 22:00:00      0 2019-10-31 22:00:00        3\n",
       "2019-10-31 22:20:00      0 2019-10-31 22:20:00        3\n",
       "2019-10-31 22:40:00      0 2019-10-31 22:40:00        3\n",
       "2019-10-31 23:00:00      0 2019-10-31 23:00:00        3\n",
       "2019-10-31 23:20:00      0 2019-10-31 23:20:00        3\n",
       "\n",
       "[2231 rows x 3 columns]"
      ]
     },
     "execution_count": 20,
     "metadata": {},
     "output_type": "execute_result"
    }
   ],
   "source": [
    "row = testing.iloc[25] #valid huvipakkuva stationi indeksi\n",
    "rr = pd.DataFrame(row)\n",
    "rr['time'] = rr.index\n",
    "rr['weekday'] = rr['time'].dt.dayofweek\n",
    "rr"
   ]
  },
  {
   "cell_type": "code",
   "execution_count": 21,
   "metadata": {
    "scrolled": true
   },
   "outputs": [],
   "source": [
    "dti = pd.date_range(\"05:00\", \"23:40\", freq=\"20min\").time\n",
    "w = [0, 1, 2, 3, 4, 5, 6]\n",
    "graf = pd.DataFrame({'start':0} ,index = w)\n",
    "for i in range(57):\n",
    "    c = dti[i]\n",
    "    b = rr.at_time(c)\n",
    "    d = b.groupby(['weekday']).mean()\n",
    "    graf[c] = d\n",
    "fg = pd.DataFrame(graf.iloc[0:5].mean())\n",
    "k = fg.rename(columns={0: \"meanN\"})\n",
    "k['time'] = k.index\n",
    "k['y'] = 0\n",
    "k.loc[k.meanN >= 0, 'y'] = 1\n",
    "q = k.drop('start', axis=0)\n",
    "q[['h','m','s']] = q['time'].astype(str).str.split(':', expand=True).astype(int)\n",
    "q\n",
    "proov = q.drop(columns=['time'])"
   ]
  },
  {
   "cell_type": "code",
   "execution_count": 22,
   "metadata": {},
   "outputs": [
    {
     "data": {
      "text/plain": [
       "<AxesSubplot:>"
      ]
     },
     "execution_count": 22,
     "metadata": {},
     "output_type": "execute_result"
    },
    {
     "data": {
      "image/png": "[encoded data removed]",
      "text/plain": [
       "<Figure size 432x288 with 1 Axes>"
      ]
     },
     "metadata": {
      "needs_background": "light"
     },
     "output_type": "display_data"
    }
   ],
   "source": [
    "graf.rename(columns={'start':'05:00:00'}, inplace=True)\n",
    "graf.iloc[0:5].mean().plot()"
   ]
  },
  {
   "cell_type": "code",
   "execution_count": 23,
   "metadata": {},
   "outputs": [],
   "source": [
    "X_test = proov.drop([\"y\", \"meanN\"], axis=1)\n",
    "y_test = proov[\"y\"]"
   ]
  },
  {
   "cell_type": "markdown",
   "metadata": {
    "scrolled": true
   },
   "source": [
    "# MODEL"
   ]
  },
  {
   "cell_type": "code",
   "execution_count": 24,
   "metadata": {},
   "outputs": [],
   "source": [
    "from sklearn.ensemble import RandomForestClassifier\n",
    "from sklearn.metrics import roc_auc_score\n",
    "from sklearn.neighbors import KNeighborsClassifier"
   ]
  },
  {
   "cell_type": "code",
   "execution_count": 25,
   "metadata": {
    "scrolled": true
   },
   "outputs": [],
   "source": [
    "model = RandomForestClassifier(n_estimators=150, max_depth=4, random_state=0)\n",
    "#model = KNeighborsClassifier(n_neighbors = 10)\n",
    "\n",
    "model.fit(X_train, y_train)\n",
    "probs = pd.DataFrame(model.predict_proba(X_test), columns=['y0','y1'])['y1']"
   ]
  },
  {
   "cell_type": "code",
   "execution_count": 26,
   "metadata": {
    "scrolled": true
   },
   "outputs": [
    {
     "data": {
      "text/plain": [
       "0.8678660049627792"
      ]
     },
     "execution_count": 26,
     "metadata": {},
     "output_type": "execute_result"
    }
   ],
   "source": [
    "x = roc_auc_score(y_test, probs)\n",
    "x"
   ]
  },
  {
   "cell_type": "markdown",
   "metadata": {},
   "source": [
    "# HEATMAP"
   ]
  },
  {
   "cell_type": "markdown",
   "metadata": {},
   "source": [
    "### Based on the period averages"
   ]
  },
  {
   "cell_type": "code",
   "execution_count": 30,
   "metadata": {},
   "outputs": [],
   "source": [
    "import numpy as np; np.random.seed(0)\n",
    "import seaborn as sns; sns.set_theme()\n",
    "import datetime as dt\n",
    "import matplotlib.pyplot as plt\n",
    "import matplotlib.dates as mdates\n",
    "from matplotlib.dates import DayLocator, HourLocator, DateFormatter, drange"
   ]
  },
  {
   "cell_type": "code",
   "execution_count": 31,
   "metadata": {},
   "outputs": [
    {
     "data": {
      "image/png": "[encoded data removed]",
      "text/plain": [
       "<Figure size 936x720 with 2 Axes>"
      ]
     },
     "metadata": {},
     "output_type": "display_data"
    }
   ],
   "source": [
    "uus_rr = rr.copy()\n",
    "uus_rr['time'] = uus_rr.time.dt.strftime('%H:%M')\n",
    "\n",
    "uus_rr = uus_rr.reset_index()\n",
    "\n",
    "uus_rr = uus_rr[(uus_rr['index'].dt.time > dt.time(15, 0)) & (uus_rr['index'].dt.time < dt.time(18, 41))] #kellaajad siia\n",
    "\n",
    "uus_rr = uus_rr.drop('index', axis=1)\n",
    "uus_rr.set_index('time')\n",
    "\n",
    "uus_rr['weekday'].replace({0:'Monday', 1:'Tuesday', 2:'Wednesday',  3:'Thursday', 4:'Friday', 5:'Saturday', 6:'Sunday'}, inplace=True)\n",
    "uus_rr['weekday'] = pd.Categorical(uus_rr['weekday'], categories=['Monday', 'Tuesday', 'Wednesday', 'Thursday', 'Friday', 'Saturday', 'Sunday'], ordered=True)\n",
    "uus_rr = uus_rr.sort_values('weekday', ascending=False)\n",
    "\n",
    "uus_rr = uus_rr.groupby(['weekday', 'time']).mean()\n",
    "uus_rr = uus_rr.unstack(level=0)\n",
    "\n",
    "axHM = plt.subplots(figsize=(13,10))\n",
    "axHM = sns.heatmap(uus_rr, cbar_kws={\"orientation\": \"horizontal\"})"
   ]
  }
 ],
 "metadata": {
  "kernelspec": {
   "display_name": "Python 3",
   "language": "python",
   "name": "python3"
  },
  "language_info": {
   "codemirror_mode": {
    "name": "ipython",
    "version": 3
   },
   "file_extension": ".py",
   "mimetype": "text/x-python",
   "name": "python",
   "nbconvert_exporter": "python",
   "pygments_lexer": "ipython3",
   "version": "3.8.6"
  }
 },
 "nbformat": 4,
 "nbformat_minor": 4
}
